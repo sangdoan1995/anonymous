{
 "cells": [
  {
   "cell_type": "code",
   "execution_count": 1,
   "metadata": {},
   "outputs": [],
   "source": [
    "#khai báo thư viện\n",
    "import pandas as pd #đọc dữ liệu\n",
    "import datetime as dt #lấy ngày tháng\n",
    "import matplotlib.pyplot as plt #vẽ biểu đồ\n",
    "import numpy as np #xử lí dữ liệu\n",
    "import os #dự liệu hệ thống\n",
    "import plotly.express as px #vẽ biểu đồ\n",
    "import seaborn as sns #vẽ biểu đồ\n",
    "from sklearn.preprocessing import MinMaxScaler #chuẩn hóa dữ liệu\n",
    "from keras.callbacks import ModelCheckpoint #lưu lại huấn luyện\n",
    "from tensorflow.keras.models import load_model #tải model\n",
    "\n",
    "#các lớp để xây dựng mô hình\n",
    "from keras.models import Sequential #đầu vào\n",
    "from keras.layers import LSTM #học phụ thuộc\n",
    "from keras.layers import Dropout #tránh học tủ\n",
    "from keras.layers import Dense #Đầu ra\n",
    "\n",
    "#kiểm tra độ chính xác của mô hình\n",
    "from sklearn.metrics import r2_score #đo mức độ phù hợp\n",
    "from sklearn.metrics import mean_absolute_error #đo sai số tuyệt đối trung bình\n",
    "from sklearn.metrics import mean_absolute_percentage_error #đo % sai số trung bình"
   ]
  },
  {
   "cell_type": "code",
   "execution_count": 449,
   "metadata": {},
   "outputs": [
    {
     "data": {
      "text/html": [
       "<div>\n",
       "<style scoped>\n",
       "    .dataframe tbody tr th:only-of-type {\n",
       "        vertical-align: middle;\n",
       "    }\n",
       "\n",
       "    .dataframe tbody tr th {\n",
       "        vertical-align: top;\n",
       "    }\n",
       "\n",
       "    .dataframe thead th {\n",
       "        text-align: right;\n",
       "    }\n",
       "</style>\n",
       "<table border=\"1\" class=\"dataframe\">\n",
       "  <thead>\n",
       "    <tr style=\"text-align: right;\">\n",
       "      <th></th>\n",
       "      <th>Ngày</th>\n",
       "      <th>Lần cuối</th>\n",
       "      <th>Mở</th>\n",
       "      <th>Cao</th>\n",
       "      <th>Thấp</th>\n",
       "      <th>KL</th>\n",
       "      <th>% Thay đổi</th>\n",
       "    </tr>\n",
       "  </thead>\n",
       "  <tbody>\n",
       "    <tr>\n",
       "      <th>0</th>\n",
       "      <td>09/11/2017</td>\n",
       "      <td>1.99</td>\n",
       "      <td>1.99</td>\n",
       "      <td>2.20</td>\n",
       "      <td>1.90</td>\n",
       "      <td>283.35K</td>\n",
       "      <td>0.00%</td>\n",
       "    </tr>\n",
       "    <tr>\n",
       "      <th>1</th>\n",
       "      <td>10/11/2017</td>\n",
       "      <td>1.71</td>\n",
       "      <td>1.99</td>\n",
       "      <td>2.02</td>\n",
       "      <td>1.60</td>\n",
       "      <td>483.23K</td>\n",
       "      <td>-14.07%</td>\n",
       "    </tr>\n",
       "    <tr>\n",
       "      <th>2</th>\n",
       "      <td>11/11/2017</td>\n",
       "      <td>1.66</td>\n",
       "      <td>1.71</td>\n",
       "      <td>1.93</td>\n",
       "      <td>1.58</td>\n",
       "      <td>256.71K</td>\n",
       "      <td>-2.92%</td>\n",
       "    </tr>\n",
       "    <tr>\n",
       "      <th>3</th>\n",
       "      <td>12/11/2017</td>\n",
       "      <td>1.49</td>\n",
       "      <td>1.66</td>\n",
       "      <td>1.70</td>\n",
       "      <td>1.34</td>\n",
       "      <td>456.48K</td>\n",
       "      <td>-10.24%</td>\n",
       "    </tr>\n",
       "    <tr>\n",
       "      <th>4</th>\n",
       "      <td>13/11/2017</td>\n",
       "      <td>1.68</td>\n",
       "      <td>1.49</td>\n",
       "      <td>1.74</td>\n",
       "      <td>1.49</td>\n",
       "      <td>166.01K</td>\n",
       "      <td>12.75%</td>\n",
       "    </tr>\n",
       "    <tr>\n",
       "      <th>...</th>\n",
       "      <td>...</td>\n",
       "      <td>...</td>\n",
       "      <td>...</td>\n",
       "      <td>...</td>\n",
       "      <td>...</td>\n",
       "      <td>...</td>\n",
       "      <td>...</td>\n",
       "    </tr>\n",
       "    <tr>\n",
       "      <th>1804</th>\n",
       "      <td>18/10/2022</td>\n",
       "      <td>273.19</td>\n",
       "      <td>275.70</td>\n",
       "      <td>276.00</td>\n",
       "      <td>270.21</td>\n",
       "      <td>206.23K</td>\n",
       "      <td>-0.91%</td>\n",
       "    </tr>\n",
       "    <tr>\n",
       "      <th>1805</th>\n",
       "      <td>19/10/2022</td>\n",
       "      <td>272.10</td>\n",
       "      <td>273.19</td>\n",
       "      <td>273.79</td>\n",
       "      <td>270.40</td>\n",
       "      <td>161.82K</td>\n",
       "      <td>-0.40%</td>\n",
       "    </tr>\n",
       "    <tr>\n",
       "      <th>1806</th>\n",
       "      <td>20/10/2022</td>\n",
       "      <td>269.00</td>\n",
       "      <td>272.09</td>\n",
       "      <td>273.30</td>\n",
       "      <td>267.69</td>\n",
       "      <td>176.43K</td>\n",
       "      <td>-1.14%</td>\n",
       "    </tr>\n",
       "    <tr>\n",
       "      <th>1807</th>\n",
       "      <td>21/10/2022</td>\n",
       "      <td>270.00</td>\n",
       "      <td>269.00</td>\n",
       "      <td>271.00</td>\n",
       "      <td>263.90</td>\n",
       "      <td>208.64K</td>\n",
       "      <td>0.37%</td>\n",
       "    </tr>\n",
       "    <tr>\n",
       "      <th>1808</th>\n",
       "      <td>22/10/2022</td>\n",
       "      <td>269.80</td>\n",
       "      <td>270.00</td>\n",
       "      <td>270.69</td>\n",
       "      <td>268.40</td>\n",
       "      <td>119.35K</td>\n",
       "      <td>-0.08%</td>\n",
       "    </tr>\n",
       "  </tbody>\n",
       "</table>\n",
       "<p>1809 rows × 7 columns</p>\n",
       "</div>"
      ],
      "text/plain": [
       "            Ngày  Lần cuối      Mở     Cao    Thấp       KL % Thay đổi\n",
       "0     09/11/2017      1.99    1.99    2.20    1.90  283.35K      0.00%\n",
       "1     10/11/2017      1.71    1.99    2.02    1.60  483.23K    -14.07%\n",
       "2     11/11/2017      1.66    1.71    1.93    1.58  256.71K     -2.92%\n",
       "3     12/11/2017      1.49    1.66    1.70    1.34  456.48K    -10.24%\n",
       "4     13/11/2017      1.68    1.49    1.74    1.49  166.01K     12.75%\n",
       "...          ...       ...     ...     ...     ...      ...        ...\n",
       "1804  18/10/2022    273.19  275.70  276.00  270.21  206.23K     -0.91%\n",
       "1805  19/10/2022    272.10  273.19  273.79  270.40  161.82K     -0.40%\n",
       "1806  20/10/2022    269.00  272.09  273.30  267.69  176.43K     -1.14%\n",
       "1807  21/10/2022    270.00  269.00  271.00  263.90  208.64K      0.37%\n",
       "1808  22/10/2022    269.80  270.00  270.69  268.40  119.35K     -0.08%\n",
       "\n",
       "[1809 rows x 7 columns]"
      ]
     },
     "execution_count": 449,
     "metadata": {},
     "output_type": "execute_result"
    }
   ],
   "source": [
    "#đọc dữ liệu\n",
    "path = ('C:\\Python\\Data\\CRYPTO\\BNB_coin')\n",
    "df = pd.read_csv(path +'\\Dữ liệu Lịch sử BNB.csv')\n",
    "df"
   ]
  },
  {
   "cell_type": "code",
   "execution_count": 450,
   "metadata": {},
   "outputs": [
    {
     "data": {
      "text/plain": [
       "(1809,)"
      ]
     },
     "execution_count": 450,
     "metadata": {},
     "output_type": "execute_result"
    }
   ],
   "source": [
    "df1=df.reset_index()['Lần cuối']\n",
    "df1.shape"
   ]
  },
  {
   "cell_type": "code",
   "execution_count": 451,
   "metadata": {},
   "outputs": [
    {
     "data": {
      "text/plain": [
       "array([[7.40663931e-04],\n",
       "       [3.25892130e-04],\n",
       "       [2.51825737e-04],\n",
       "       ...,\n",
       "       [3.96270016e-01],\n",
       "       [3.97751344e-01],\n",
       "       [3.97455079e-01]])"
      ]
     },
     "execution_count": 451,
     "metadata": {},
     "output_type": "execute_result"
    }
   ],
   "source": [
    "scaler=MinMaxScaler(feature_range=(0,1))\n",
    "df1=scaler.fit_transform(np.array(df1).reshape(-1,1))\n",
    "df1"
   ]
  },
  {
   "cell_type": "code",
   "execution_count": 452,
   "metadata": {},
   "outputs": [],
   "source": [
    "train_size =int(len(df1)*0.8)\n",
    "test_size=len(df1)-train_size\n",
    "train_data,test_data=df1[0:train_size,:],df1[train_size:len(df1):1]"
   ]
  },
  {
   "cell_type": "code",
   "execution_count": 453,
   "metadata": {},
   "outputs": [
    {
     "name": "stdout",
     "output_type": "stream",
     "text": [
      "(1447, 1)\n",
      "(362, 1)\n"
     ]
    }
   ],
   "source": [
    "print(train_data.shape)\n",
    "print(test_data.shape)"
   ]
  },
  {
   "cell_type": "code",
   "execution_count": 454,
   "metadata": {},
   "outputs": [],
   "source": [
    "def create_dataset(dataset,time_step=1):\n",
    "    dataX,dataY=[],[]\n",
    "    for i in range(len(dataset)-time_step-1):\n",
    "        a=dataset[i:i+time_step,0]\n",
    "        dataX.append(a)\n",
    "        dataY.append(dataset[i+time_step,0])\n",
    "    return np.array(dataX),np.array(dataY)"
   ]
  },
  {
   "cell_type": "code",
   "execution_count": 455,
   "metadata": {},
   "outputs": [],
   "source": [
    "time_step=100\n",
    "X_train,Y_train=create_dataset(train_data,time_step)\n",
    "X_test,Y_test=create_dataset(test_data,time_step)"
   ]
  },
  {
   "cell_type": "code",
   "execution_count": 456,
   "metadata": {},
   "outputs": [
    {
     "name": "stdout",
     "output_type": "stream",
     "text": [
      "(1346, 100) (1346,)\n",
      "(261, 100) (261,)\n"
     ]
    }
   ],
   "source": [
    "print(X_train.shape,Y_train.shape)\n",
    "print(X_test.shape,Y_test.shape)"
   ]
  },
  {
   "cell_type": "code",
   "execution_count": 457,
   "metadata": {},
   "outputs": [],
   "source": [
    "X_train=X_train.reshape(X_train.shape[0],X_train.shape[1],1)\n",
    "X_test=X_test.reshape(X_test.shape[0],X_test.shape[1],1)"
   ]
  },
  {
   "cell_type": "code",
   "execution_count": 458,
   "metadata": {},
   "outputs": [],
   "source": [
    "#xây dựng mô hình\n",
    "model=Sequential()\n",
    "model.add(LSTM(50,return_sequences=True,input_shape=(100,1)))\n",
    "model.add(LSTM(50,return_sequences=True))\n",
    "model.add(LSTM(50))\n",
    "model.add(Dense(1))\n",
    "model.compile(loss='mean_absolute_error',optimizer='adam')"
   ]
  },
  {
   "cell_type": "code",
   "execution_count": 459,
   "metadata": {},
   "outputs": [
    {
     "name": "stdout",
     "output_type": "stream",
     "text": [
      "Model: \"sequential_8\"\n",
      "_________________________________________________________________\n",
      " Layer (type)                Output Shape              Param #   \n",
      "=================================================================\n",
      " lstm_24 (LSTM)              (None, 100, 50)           10400     \n",
      "                                                                 \n",
      " lstm_25 (LSTM)              (None, 100, 50)           20200     \n",
      "                                                                 \n",
      " lstm_26 (LSTM)              (None, 50)                20200     \n",
      "                                                                 \n",
      " dense_8 (Dense)             (None, 1)                 51        \n",
      "                                                                 \n",
      "=================================================================\n",
      "Total params: 50,851\n",
      "Trainable params: 50,851\n",
      "Non-trainable params: 0\n",
      "_________________________________________________________________\n"
     ]
    }
   ],
   "source": [
    "model.summary()"
   ]
  },
  {
   "cell_type": "code",
   "execution_count": 460,
   "metadata": {},
   "outputs": [
    {
     "name": "stdout",
     "output_type": "stream",
     "text": [
      "Epoch 1/10\n",
      "22/22 [==============================] - ETA: 0s - loss: 0.0426\n",
      "Epoch 1: loss improved from inf to 0.04258, saving model to save_model.hdf5\n",
      "22/22 [==============================] - 11s 239ms/step - loss: 0.0426 - val_loss: 0.1283\n",
      "Epoch 2/10\n",
      "22/22 [==============================] - ETA: 0s - loss: 0.0239\n",
      "Epoch 2: loss improved from 0.04258 to 0.02389, saving model to save_model.hdf5\n",
      "22/22 [==============================] - 4s 180ms/step - loss: 0.0239 - val_loss: 0.0533\n",
      "Epoch 3/10\n",
      "22/22 [==============================] - ETA: 0s - loss: 0.0194\n",
      "Epoch 3: loss improved from 0.02389 to 0.01937, saving model to save_model.hdf5\n",
      "22/22 [==============================] - 4s 176ms/step - loss: 0.0194 - val_loss: 0.0301\n",
      "Epoch 4/10\n",
      "22/22 [==============================] - ETA: 0s - loss: 0.0160\n",
      "Epoch 4: loss improved from 0.01937 to 0.01598, saving model to save_model.hdf5\n",
      "22/22 [==============================] - 4s 175ms/step - loss: 0.0160 - val_loss: 0.0952\n",
      "Epoch 5/10\n",
      "22/22 [==============================] - ETA: 0s - loss: 0.0203\n",
      "Epoch 5: loss did not improve from 0.01598\n",
      "22/22 [==============================] - 4s 174ms/step - loss: 0.0203 - val_loss: 0.0262\n",
      "Epoch 6/10\n",
      "22/22 [==============================] - ETA: 0s - loss: 0.0141\n",
      "Epoch 6: loss improved from 0.01598 to 0.01407, saving model to save_model.hdf5\n",
      "22/22 [==============================] - 4s 176ms/step - loss: 0.0141 - val_loss: 0.0374\n",
      "Epoch 7/10\n",
      "22/22 [==============================] - ETA: 0s - loss: 0.0144\n",
      "Epoch 7: loss did not improve from 0.01407\n",
      "22/22 [==============================] - 4s 171ms/step - loss: 0.0144 - val_loss: 0.0356\n",
      "Epoch 8/10\n",
      "22/22 [==============================] - ETA: 0s - loss: 0.0135\n",
      "Epoch 8: loss improved from 0.01407 to 0.01348, saving model to save_model.hdf5\n",
      "22/22 [==============================] - 9s 401ms/step - loss: 0.0135 - val_loss: 0.0344\n",
      "Epoch 9/10\n",
      "22/22 [==============================] - ETA: 0s - loss: 0.0135\n",
      "Epoch 9: loss did not improve from 0.01348\n",
      "22/22 [==============================] - 6s 282ms/step - loss: 0.0135 - val_loss: 0.0301\n",
      "Epoch 10/10\n",
      "22/22 [==============================] - ETA: 0s - loss: 0.0136\n",
      "Epoch 10: loss did not improve from 0.01348\n",
      "22/22 [==============================] - 5s 235ms/step - loss: 0.0136 - val_loss: 0.0281\n"
     ]
    },
    {
     "data": {
      "text/plain": [
       "<keras.callbacks.History at 0x231992f9850>"
      ]
     },
     "execution_count": 460,
     "metadata": {},
     "output_type": "execute_result"
    }
   ],
   "source": [
    "save_model=\"save_model.hdf5\"\n",
    "best_model=ModelCheckpoint(save_model,monitor='loss',verbose=1,save_best_only=True,mode='auto')\n",
    "model.fit(X_train,Y_train,validation_data=(X_test,Y_test),epochs=10,batch_size=64,verbose=1,callbacks=[best_model])\n"
   ]
  },
  {
   "cell_type": "code",
   "execution_count": 461,
   "metadata": {},
   "outputs": [
    {
     "name": "stdout",
     "output_type": "stream",
     "text": [
      "43/43 [==============================] - 3s 40ms/step\n",
      "9/9 [==============================] - 0s 37ms/step\n"
     ]
    }
   ],
   "source": [
    "train_predict=model.predict(X_train)\n",
    "test_predict=model.predict(X_test)"
   ]
  },
  {
   "cell_type": "code",
   "execution_count": 462,
   "metadata": {},
   "outputs": [],
   "source": [
    "train_predict=scaler.inverse_transform(train_predict)\n",
    "test_predict=scaler.inverse_transform(test_predict)"
   ]
  },
  {
   "cell_type": "code",
   "execution_count": 463,
   "metadata": {},
   "outputs": [
    {
     "name": "stdout",
     "output_type": "stream",
     "text": [
      "RMSE 159.15184573643108\n"
     ]
    }
   ],
   "source": [
    "import math\n",
    "from sklearn.metrics import mean_squared_error\n",
    "\n",
    "print(\"RMSE\",math.sqrt(mean_squared_error(Y_train,train_predict)))"
   ]
  },
  {
   "cell_type": "code",
   "execution_count": 464,
   "metadata": {},
   "outputs": [
    {
     "name": "stdout",
     "output_type": "stream",
     "text": [
      "RMSE 313.8797947323158\n"
     ]
    }
   ],
   "source": [
    "print(\"RMSE\",math.sqrt(mean_squared_error(Y_test,test_predict)))"
   ]
  },
  {
   "cell_type": "code",
   "execution_count": 465,
   "metadata": {},
   "outputs": [],
   "source": [
    "lock_back=100\n",
    "train_predict_plot=np.empty_like(df1)\n",
    "train_predict_plot[:,:]=np.nan\n",
    "train_predict_plot[lock_back:len(train_predict)+lock_back,:]=train_predict\n",
    "\n",
    "test_predict_plot=np.empty_like(df1)\n",
    "test_predict_plot[:,:]=np.nan\n",
    "test_predict_plot[len(train_predict)+(lock_back*2)+1:len(df1)-1,:]=test_predict"
   ]
  },
  {
   "cell_type": "code",
   "execution_count": 466,
   "metadata": {},
   "outputs": [
    {
     "data": {
      "image/png": "[encoded data removed]",
      "text/plain": [
       "<Figure size 2000x500 with 1 Axes>"
      ]
     },
     "metadata": {},
     "output_type": "display_data"
    }
   ],
   "source": [
    "#Lập biểu đồ so sánh\n",
    "import plotly.express as px\n",
    "\n",
    "plt.subplots(figsize=(20,5))\n",
    "plt.plot(scaler.inverse_transform(df1),color='black')\n",
    "plt.show()\n"
   ]
  },
  {
   "cell_type": "code",
   "execution_count": 467,
   "metadata": {},
   "outputs": [
    {
     "data": {
      "image/png": "[encoded data removed]",
      "text/plain": [
       "<Figure size 2000x500 with 1 Axes>"
      ]
     },
     "metadata": {},
     "output_type": "display_data"
    }
   ],
   "source": [
    "plt.subplots(figsize=(20,5))\n",
    "plt.plot(train_predict_plot,color='red')\n",
    "plt.plot(test_predict_plot,color='blue')\n",
    "plt.show()\n"
   ]
  },
  {
   "cell_type": "code",
   "execution_count": 468,
   "metadata": {},
   "outputs": [
    {
     "data": {
      "image/png": "[encoded data removed]",
      "text/plain": [
       "<Figure size 2000x500 with 1 Axes>"
      ]
     },
     "metadata": {},
     "output_type": "display_data"
    }
   ],
   "source": [
    "plt.subplots(figsize=(20,5))\n",
    "plt.plot(scaler.inverse_transform(df1),color='black')\n",
    "plt.plot(train_predict_plot,color='red')\n",
    "plt.plot(test_predict_plot,color='blue')\n",
    "plt.show()\n"
   ]
  },
  {
   "cell_type": "code",
   "execution_count": 469,
   "metadata": {},
   "outputs": [
    {
     "data": {
      "text/plain": [
       "362"
      ]
     },
     "execution_count": 469,
     "metadata": {},
     "output_type": "execute_result"
    }
   ],
   "source": [
    "len(test_data)"
   ]
  },
  {
   "cell_type": "code",
   "execution_count": 470,
   "metadata": {},
   "outputs": [
    {
     "data": {
      "text/plain": [
       "array([[0.35094138, 0.36781371, 0.36486587, 0.38975217, 0.39567749,\n",
       "        0.38041981, 0.39108537, 0.3862118 , 0.381753  , 0.38516006,\n",
       "        0.36027375, 0.36708786, 0.40012147, 0.4084169 , 0.4327255 ,\n",
       "        0.42397085, 0.41774927, 0.41773446, 0.41819367, 0.43848786,\n",
       "        0.45922645, 0.46574429, 0.46442591, 0.47596546, 0.47922438,\n",
       "        0.47833558, 0.48485342, 0.47715052, 0.48366836, 0.47789118,\n",
       "        0.46812923, 0.47107707, 0.46605537, 0.45241234, 0.43924334,\n",
       "        0.41126105, 0.41819367, 0.44472425, 0.44248745, 0.4408728 ,\n",
       "        0.4368584 , 0.44411691, 0.41140919, 0.4093057 , 0.40736516,\n",
       "        0.42130446, 0.41478661, 0.41124624, 0.41006118, 0.4088613 ,\n",
       "        0.4093057 , 0.41094998, 0.40769105, 0.38634512, 0.41080184,\n",
       "        0.41330529, 0.43241442, 0.43716948, 0.43537707, 0.43302176,\n",
       "        0.40871317, 0.41167583, 0.39923267, 0.40500985, 0.41121661,\n",
       "        0.39213711, 0.400714  , 0.39213711, 0.38958923, 0.40560238,\n",
       "        0.40782437, 0.40456545, 0.4038396 , 0.40680226, 0.40130653,\n",
       "        0.41493475, 0.41848993, 0.41980832, 0.41687529, 0.41909728,\n",
       "        0.42293392, 0.43671027, 0.43345135, 0.42293392, 0.41613462,\n",
       "        0.40708371, 0.40976491, 0.39998815, 0.39969188, 0.39895122,\n",
       "        0.4002696 , 0.39701068, 0.39508495, 0.40145466, 0.40619491,\n",
       "        0.40247678, 0.40086213, 0.39627002, 0.39775134, 0.39745508]])"
      ]
     },
     "execution_count": 470,
     "metadata": {},
     "output_type": "execute_result"
    }
   ],
   "source": [
    "#dự đoán giá trong tương lai\n",
    "x_input=test_data[262:].reshape(1,-1)\n",
    "x_input"
   ]
  },
  {
   "cell_type": "code",
   "execution_count": 471,
   "metadata": {},
   "outputs": [
    {
     "name": "stdout",
     "output_type": "stream",
     "text": [
      "[0.35094138385648904, 0.3678137082080377, 0.3648658657620692, 0.38975217384863803, 0.39567748529782104, 0.3804198083161747, 0.3910853689247042, 0.3862118002577511, 0.38175300339224083, 0.3851600574755211, 0.3602737493889523, 0.3670878575555128, 0.40012146888470834, 0.4084169049135646, 0.43272549513383807, 0.42397084746767005, 0.4177492704460279, 0.4177344571674049, 0.41819366880471665, 0.43848786051816857, 0.45922645059030925, 0.4657442931844106, 0.4644259113869673, 0.47596545543425134, 0.479224376731302, 0.4783355800139245, 0.48485342260802594, 0.477150517724088, 0.4836683603181893, 0.47789118165523586, 0.46812923104270676, 0.47107707348867534, 0.4660553720354927, 0.45241234242374867, 0.4392433377279394, 0.41126105440917243, 0.41819366880471665, 0.4447242508184337, 0.4424874457463671, 0.44087279837646476, 0.4368583998696432, 0.4441169063948925, 0.4114091871954021, 0.40930570163094204, 0.4073651621313346, 0.4213044573155377, 0.41478661472143635, 0.41124624113054953, 0.4100611788407129, 0.40886130327225334, 0.40930570163094204, 0.4109499755580904, 0.40769105426103963, 0.38634511976535774, 0.41080184277186077, 0.4133052868591406, 0.4324144162827559, 0.43716947872072537, 0.43537707200734743, 0.4330217607062972, 0.4087131704860237, 0.4116758262106152, 0.3992326721673309, 0.4050098508302843, 0.41121661457330355, 0.3921371117069341, 0.40071400002962665, 0.3921371117069341, 0.38958922778378546, 0.40560238197520265, 0.4078243737686463, 0.40456545247159564, 0.4038396018190707, 0.4068022575436622, 0.4013065311745449, 0.41493474750766596, 0.41848993437717574, 0.419808316174619, 0.41687528700727344, 0.41909727880071707, 0.42293391796406304, 0.43671026708341365, 0.433451345786363, 0.42293391796406304, 0.41613462307612553, 0.4070837098374984, 0.40976491326825376, 0.3999881493771017, 0.39969188380464254, 0.3989512198734947, 0.4002696016709379, 0.3970106803738872, 0.39508495415290273, 0.4014546639607745, 0.4061949131201209, 0.40247678018575855, 0.40086213281585625, 0.39627001644273935, 0.3977513443050351, 0.39745507873257596]\n"
     ]
    }
   ],
   "source": [
    "temp_input=list(x_input)\n",
    "temp_input=temp_input[0].tolist()\n",
    "print(temp_input)"
   ]
  },
  {
   "cell_type": "code",
   "execution_count": 472,
   "metadata": {},
   "outputs": [
    {
     "name": "stdout",
     "output_type": "stream",
     "text": [
      "[262.11777]\n",
      "101\n",
      "1 day input [  0.36781371   0.36486587   0.38975217   0.39567749   0.38041981\n",
      "   0.39108537   0.3862118    0.381753     0.38516006   0.36027375\n",
      "   0.36708786   0.40012147   0.4084169    0.4327255    0.42397085\n",
      "   0.41774927   0.41773446   0.41819367   0.43848786   0.45922645\n",
      "   0.46574429   0.46442591   0.47596546   0.47922438   0.47833558\n",
      "   0.48485342   0.47715052   0.48366836   0.47789118   0.46812923\n",
      "   0.47107707   0.46605537   0.45241234   0.43924334   0.41126105\n",
      "   0.41819367   0.44472425   0.44248745   0.4408728    0.4368584\n",
      "   0.44411691   0.41140919   0.4093057    0.40736516   0.42130446\n",
      "   0.41478661   0.41124624   0.41006118   0.4088613    0.4093057\n",
      "   0.41094998   0.40769105   0.38634512   0.41080184   0.41330529\n",
      "   0.43241442   0.43716948   0.43537707   0.43302176   0.40871317\n",
      "   0.41167583   0.39923267   0.40500985   0.41121661   0.39213711\n",
      "   0.400714     0.39213711   0.38958923   0.40560238   0.40782437\n",
      "   0.40456545   0.4038396    0.40680226   0.40130653   0.41493475\n",
      "   0.41848993   0.41980832   0.41687529   0.41909728   0.42293392\n",
      "   0.43671027   0.43345135   0.42293392   0.41613462   0.40708371\n",
      "   0.40976491   0.39998815   0.39969188   0.39895122   0.4002696\n",
      "   0.39701068   0.39508495   0.40145466   0.40619491   0.40247678\n",
      "   0.40086213   0.39627002   0.39775134   0.39745508 262.11776733]\n",
      "1 day output [[573.58966]]\n",
      "2 day input [3.64865866e-01 3.89752174e-01 3.95677485e-01 3.80419808e-01\n",
      " 3.91085369e-01 3.86211800e-01 3.81753003e-01 3.85160057e-01\n",
      " 3.60273749e-01 3.67087858e-01 4.00121469e-01 4.08416905e-01\n",
      " 4.32725495e-01 4.23970847e-01 4.17749270e-01 4.17734457e-01\n",
      " 4.18193669e-01 4.38487861e-01 4.59226451e-01 4.65744293e-01\n",
      " 4.64425911e-01 4.75965455e-01 4.79224377e-01 4.78335580e-01\n",
      " 4.84853423e-01 4.77150518e-01 4.83668360e-01 4.77891182e-01\n",
      " 4.68129231e-01 4.71077073e-01 4.66055372e-01 4.52412342e-01\n",
      " 4.39243338e-01 4.11261054e-01 4.18193669e-01 4.44724251e-01\n",
      " 4.42487446e-01 4.40872798e-01 4.36858400e-01 4.44116906e-01\n",
      " 4.11409187e-01 4.09305702e-01 4.07365162e-01 4.21304457e-01\n",
      " 4.14786615e-01 4.11246241e-01 4.10061179e-01 4.08861303e-01\n",
      " 4.09305702e-01 4.10949976e-01 4.07691054e-01 3.86345120e-01\n",
      " 4.10801843e-01 4.13305287e-01 4.32414416e-01 4.37169479e-01\n",
      " 4.35377072e-01 4.33021761e-01 4.08713170e-01 4.11675826e-01\n",
      " 3.99232672e-01 4.05009851e-01 4.11216615e-01 3.92137112e-01\n",
      " 4.00714000e-01 3.92137112e-01 3.89589228e-01 4.05602382e-01\n",
      " 4.07824374e-01 4.04565452e-01 4.03839602e-01 4.06802258e-01\n",
      " 4.01306531e-01 4.14934748e-01 4.18489934e-01 4.19808316e-01\n",
      " 4.16875287e-01 4.19097279e-01 4.22933918e-01 4.36710267e-01\n",
      " 4.33451346e-01 4.22933918e-01 4.16134623e-01 4.07083710e-01\n",
      " 4.09764913e-01 3.99988149e-01 3.99691884e-01 3.98951220e-01\n",
      " 4.00269602e-01 3.97010680e-01 3.95084954e-01 4.01454664e-01\n",
      " 4.06194913e-01 4.02476780e-01 4.00862133e-01 3.96270016e-01\n",
      " 3.97751344e-01 3.97455079e-01 2.62117767e+02 5.73589661e+02]\n",
      "2 day output [[1021.3858]]\n",
      "3 day input [3.89752174e-01 3.95677485e-01 3.80419808e-01 3.91085369e-01\n",
      " 3.86211800e-01 3.81753003e-01 3.85160057e-01 3.60273749e-01\n",
      " 3.67087858e-01 4.00121469e-01 4.08416905e-01 4.32725495e-01\n",
      " 4.23970847e-01 4.17749270e-01 4.17734457e-01 4.18193669e-01\n",
      " 4.38487861e-01 4.59226451e-01 4.65744293e-01 4.64425911e-01\n",
      " 4.75965455e-01 4.79224377e-01 4.78335580e-01 4.84853423e-01\n",
      " 4.77150518e-01 4.83668360e-01 4.77891182e-01 4.68129231e-01\n",
      " 4.71077073e-01 4.66055372e-01 4.52412342e-01 4.39243338e-01\n",
      " 4.11261054e-01 4.18193669e-01 4.44724251e-01 4.42487446e-01\n",
      " 4.40872798e-01 4.36858400e-01 4.44116906e-01 4.11409187e-01\n",
      " 4.09305702e-01 4.07365162e-01 4.21304457e-01 4.14786615e-01\n",
      " 4.11246241e-01 4.10061179e-01 4.08861303e-01 4.09305702e-01\n",
      " 4.10949976e-01 4.07691054e-01 3.86345120e-01 4.10801843e-01\n",
      " 4.13305287e-01 4.32414416e-01 4.37169479e-01 4.35377072e-01\n",
      " 4.33021761e-01 4.08713170e-01 4.11675826e-01 3.99232672e-01\n",
      " 4.05009851e-01 4.11216615e-01 3.92137112e-01 4.00714000e-01\n",
      " 3.92137112e-01 3.89589228e-01 4.05602382e-01 4.07824374e-01\n",
      " 4.04565452e-01 4.03839602e-01 4.06802258e-01 4.01306531e-01\n",
      " 4.14934748e-01 4.18489934e-01 4.19808316e-01 4.16875287e-01\n",
      " 4.19097279e-01 4.22933918e-01 4.36710267e-01 4.33451346e-01\n",
      " 4.22933918e-01 4.16134623e-01 4.07083710e-01 4.09764913e-01\n",
      " 3.99988149e-01 3.99691884e-01 3.98951220e-01 4.00269602e-01\n",
      " 3.97010680e-01 3.95084954e-01 4.01454664e-01 4.06194913e-01\n",
      " 4.02476780e-01 4.00862133e-01 3.96270016e-01 3.97751344e-01\n",
      " 3.97455079e-01 2.62117767e+02 5.73589661e+02 1.02138580e+03]\n",
      "3 day output [[1400.283]]\n",
      "4 day input [3.95677485e-01 3.80419808e-01 3.91085369e-01 3.86211800e-01\n",
      " 3.81753003e-01 3.85160057e-01 3.60273749e-01 3.67087858e-01\n",
      " 4.00121469e-01 4.08416905e-01 4.32725495e-01 4.23970847e-01\n",
      " 4.17749270e-01 4.17734457e-01 4.18193669e-01 4.38487861e-01\n",
      " 4.59226451e-01 4.65744293e-01 4.64425911e-01 4.75965455e-01\n",
      " 4.79224377e-01 4.78335580e-01 4.84853423e-01 4.77150518e-01\n",
      " 4.83668360e-01 4.77891182e-01 4.68129231e-01 4.71077073e-01\n",
      " 4.66055372e-01 4.52412342e-01 4.39243338e-01 4.11261054e-01\n",
      " 4.18193669e-01 4.44724251e-01 4.42487446e-01 4.40872798e-01\n",
      " 4.36858400e-01 4.44116906e-01 4.11409187e-01 4.09305702e-01\n",
      " 4.07365162e-01 4.21304457e-01 4.14786615e-01 4.11246241e-01\n",
      " 4.10061179e-01 4.08861303e-01 4.09305702e-01 4.10949976e-01\n",
      " 4.07691054e-01 3.86345120e-01 4.10801843e-01 4.13305287e-01\n",
      " 4.32414416e-01 4.37169479e-01 4.35377072e-01 4.33021761e-01\n",
      " 4.08713170e-01 4.11675826e-01 3.99232672e-01 4.05009851e-01\n",
      " 4.11216615e-01 3.92137112e-01 4.00714000e-01 3.92137112e-01\n",
      " 3.89589228e-01 4.05602382e-01 4.07824374e-01 4.04565452e-01\n",
      " 4.03839602e-01 4.06802258e-01 4.01306531e-01 4.14934748e-01\n",
      " 4.18489934e-01 4.19808316e-01 4.16875287e-01 4.19097279e-01\n",
      " 4.22933918e-01 4.36710267e-01 4.33451346e-01 4.22933918e-01\n",
      " 4.16134623e-01 4.07083710e-01 4.09764913e-01 3.99988149e-01\n",
      " 3.99691884e-01 3.98951220e-01 4.00269602e-01 3.97010680e-01\n",
      " 3.95084954e-01 4.01454664e-01 4.06194913e-01 4.02476780e-01\n",
      " 4.00862133e-01 3.96270016e-01 3.97751344e-01 3.97455079e-01\n",
      " 2.62117767e+02 5.73589661e+02 1.02138580e+03 1.40028296e+03]\n",
      "4 day output [[1635.1112]]\n",
      "5 day input [3.80419808e-01 3.91085369e-01 3.86211800e-01 3.81753003e-01\n",
      " 3.85160057e-01 3.60273749e-01 3.67087858e-01 4.00121469e-01\n",
      " 4.08416905e-01 4.32725495e-01 4.23970847e-01 4.17749270e-01\n",
      " 4.17734457e-01 4.18193669e-01 4.38487861e-01 4.59226451e-01\n",
      " 4.65744293e-01 4.64425911e-01 4.75965455e-01 4.79224377e-01\n",
      " 4.78335580e-01 4.84853423e-01 4.77150518e-01 4.83668360e-01\n",
      " 4.77891182e-01 4.68129231e-01 4.71077073e-01 4.66055372e-01\n",
      " 4.52412342e-01 4.39243338e-01 4.11261054e-01 4.18193669e-01\n",
      " 4.44724251e-01 4.42487446e-01 4.40872798e-01 4.36858400e-01\n",
      " 4.44116906e-01 4.11409187e-01 4.09305702e-01 4.07365162e-01\n",
      " 4.21304457e-01 4.14786615e-01 4.11246241e-01 4.10061179e-01\n",
      " 4.08861303e-01 4.09305702e-01 4.10949976e-01 4.07691054e-01\n",
      " 3.86345120e-01 4.10801843e-01 4.13305287e-01 4.32414416e-01\n",
      " 4.37169479e-01 4.35377072e-01 4.33021761e-01 4.08713170e-01\n",
      " 4.11675826e-01 3.99232672e-01 4.05009851e-01 4.11216615e-01\n",
      " 3.92137112e-01 4.00714000e-01 3.92137112e-01 3.89589228e-01\n",
      " 4.05602382e-01 4.07824374e-01 4.04565452e-01 4.03839602e-01\n",
      " 4.06802258e-01 4.01306531e-01 4.14934748e-01 4.18489934e-01\n",
      " 4.19808316e-01 4.16875287e-01 4.19097279e-01 4.22933918e-01\n",
      " 4.36710267e-01 4.33451346e-01 4.22933918e-01 4.16134623e-01\n",
      " 4.07083710e-01 4.09764913e-01 3.99988149e-01 3.99691884e-01\n",
      " 3.98951220e-01 4.00269602e-01 3.97010680e-01 3.95084954e-01\n",
      " 4.01454664e-01 4.06194913e-01 4.02476780e-01 4.00862133e-01\n",
      " 3.96270016e-01 3.97751344e-01 3.97455079e-01 2.62117767e+02\n",
      " 5.73589661e+02 1.02138580e+03 1.40028296e+03 1.63511121e+03]\n",
      "5 day output [[1758.4993]]\n",
      "6 day input [3.91085369e-01 3.86211800e-01 3.81753003e-01 3.85160057e-01\n",
      " 3.60273749e-01 3.67087858e-01 4.00121469e-01 4.08416905e-01\n",
      " 4.32725495e-01 4.23970847e-01 4.17749270e-01 4.17734457e-01\n",
      " 4.18193669e-01 4.38487861e-01 4.59226451e-01 4.65744293e-01\n",
      " 4.64425911e-01 4.75965455e-01 4.79224377e-01 4.78335580e-01\n",
      " 4.84853423e-01 4.77150518e-01 4.83668360e-01 4.77891182e-01\n",
      " 4.68129231e-01 4.71077073e-01 4.66055372e-01 4.52412342e-01\n",
      " 4.39243338e-01 4.11261054e-01 4.18193669e-01 4.44724251e-01\n",
      " 4.42487446e-01 4.40872798e-01 4.36858400e-01 4.44116906e-01\n",
      " 4.11409187e-01 4.09305702e-01 4.07365162e-01 4.21304457e-01\n",
      " 4.14786615e-01 4.11246241e-01 4.10061179e-01 4.08861303e-01\n",
      " 4.09305702e-01 4.10949976e-01 4.07691054e-01 3.86345120e-01\n",
      " 4.10801843e-01 4.13305287e-01 4.32414416e-01 4.37169479e-01\n",
      " 4.35377072e-01 4.33021761e-01 4.08713170e-01 4.11675826e-01\n",
      " 3.99232672e-01 4.05009851e-01 4.11216615e-01 3.92137112e-01\n",
      " 4.00714000e-01 3.92137112e-01 3.89589228e-01 4.05602382e-01\n",
      " 4.07824374e-01 4.04565452e-01 4.03839602e-01 4.06802258e-01\n",
      " 4.01306531e-01 4.14934748e-01 4.18489934e-01 4.19808316e-01\n",
      " 4.16875287e-01 4.19097279e-01 4.22933918e-01 4.36710267e-01\n",
      " 4.33451346e-01 4.22933918e-01 4.16134623e-01 4.07083710e-01\n",
      " 4.09764913e-01 3.99988149e-01 3.99691884e-01 3.98951220e-01\n",
      " 4.00269602e-01 3.97010680e-01 3.95084954e-01 4.01454664e-01\n",
      " 4.06194913e-01 4.02476780e-01 4.00862133e-01 3.96270016e-01\n",
      " 3.97751344e-01 3.97455079e-01 2.62117767e+02 5.73589661e+02\n",
      " 1.02138580e+03 1.40028296e+03 1.63511121e+03 1.75849927e+03]\n",
      "6 day output [[1816.8424]]\n",
      "7 day input [3.86211800e-01 3.81753003e-01 3.85160057e-01 3.60273749e-01\n",
      " 3.67087858e-01 4.00121469e-01 4.08416905e-01 4.32725495e-01\n",
      " 4.23970847e-01 4.17749270e-01 4.17734457e-01 4.18193669e-01\n",
      " 4.38487861e-01 4.59226451e-01 4.65744293e-01 4.64425911e-01\n",
      " 4.75965455e-01 4.79224377e-01 4.78335580e-01 4.84853423e-01\n",
      " 4.77150518e-01 4.83668360e-01 4.77891182e-01 4.68129231e-01\n",
      " 4.71077073e-01 4.66055372e-01 4.52412342e-01 4.39243338e-01\n",
      " 4.11261054e-01 4.18193669e-01 4.44724251e-01 4.42487446e-01\n",
      " 4.40872798e-01 4.36858400e-01 4.44116906e-01 4.11409187e-01\n",
      " 4.09305702e-01 4.07365162e-01 4.21304457e-01 4.14786615e-01\n",
      " 4.11246241e-01 4.10061179e-01 4.08861303e-01 4.09305702e-01\n",
      " 4.10949976e-01 4.07691054e-01 3.86345120e-01 4.10801843e-01\n",
      " 4.13305287e-01 4.32414416e-01 4.37169479e-01 4.35377072e-01\n",
      " 4.33021761e-01 4.08713170e-01 4.11675826e-01 3.99232672e-01\n",
      " 4.05009851e-01 4.11216615e-01 3.92137112e-01 4.00714000e-01\n",
      " 3.92137112e-01 3.89589228e-01 4.05602382e-01 4.07824374e-01\n",
      " 4.04565452e-01 4.03839602e-01 4.06802258e-01 4.01306531e-01\n",
      " 4.14934748e-01 4.18489934e-01 4.19808316e-01 4.16875287e-01\n",
      " 4.19097279e-01 4.22933918e-01 4.36710267e-01 4.33451346e-01\n",
      " 4.22933918e-01 4.16134623e-01 4.07083710e-01 4.09764913e-01\n",
      " 3.99988149e-01 3.99691884e-01 3.98951220e-01 4.00269602e-01\n",
      " 3.97010680e-01 3.95084954e-01 4.01454664e-01 4.06194913e-01\n",
      " 4.02476780e-01 4.00862133e-01 3.96270016e-01 3.97751344e-01\n",
      " 3.97455079e-01 2.62117767e+02 5.73589661e+02 1.02138580e+03\n",
      " 1.40028296e+03 1.63511121e+03 1.75849927e+03 1.81684241e+03]\n",
      "7 day output [[1840.4009]]\n",
      "8 day input [3.81753003e-01 3.85160057e-01 3.60273749e-01 3.67087858e-01\n",
      " 4.00121469e-01 4.08416905e-01 4.32725495e-01 4.23970847e-01\n",
      " 4.17749270e-01 4.17734457e-01 4.18193669e-01 4.38487861e-01\n",
      " 4.59226451e-01 4.65744293e-01 4.64425911e-01 4.75965455e-01\n",
      " 4.79224377e-01 4.78335580e-01 4.84853423e-01 4.77150518e-01\n",
      " 4.83668360e-01 4.77891182e-01 4.68129231e-01 4.71077073e-01\n",
      " 4.66055372e-01 4.52412342e-01 4.39243338e-01 4.11261054e-01\n",
      " 4.18193669e-01 4.44724251e-01 4.42487446e-01 4.40872798e-01\n",
      " 4.36858400e-01 4.44116906e-01 4.11409187e-01 4.09305702e-01\n",
      " 4.07365162e-01 4.21304457e-01 4.14786615e-01 4.11246241e-01\n",
      " 4.10061179e-01 4.08861303e-01 4.09305702e-01 4.10949976e-01\n",
      " 4.07691054e-01 3.86345120e-01 4.10801843e-01 4.13305287e-01\n",
      " 4.32414416e-01 4.37169479e-01 4.35377072e-01 4.33021761e-01\n",
      " 4.08713170e-01 4.11675826e-01 3.99232672e-01 4.05009851e-01\n",
      " 4.11216615e-01 3.92137112e-01 4.00714000e-01 3.92137112e-01\n",
      " 3.89589228e-01 4.05602382e-01 4.07824374e-01 4.04565452e-01\n",
      " 4.03839602e-01 4.06802258e-01 4.01306531e-01 4.14934748e-01\n",
      " 4.18489934e-01 4.19808316e-01 4.16875287e-01 4.19097279e-01\n",
      " 4.22933918e-01 4.36710267e-01 4.33451346e-01 4.22933918e-01\n",
      " 4.16134623e-01 4.07083710e-01 4.09764913e-01 3.99988149e-01\n",
      " 3.99691884e-01 3.98951220e-01 4.00269602e-01 3.97010680e-01\n",
      " 3.95084954e-01 4.01454664e-01 4.06194913e-01 4.02476780e-01\n",
      " 4.00862133e-01 3.96270016e-01 3.97751344e-01 3.97455079e-01\n",
      " 2.62117767e+02 5.73589661e+02 1.02138580e+03 1.40028296e+03\n",
      " 1.63511121e+03 1.75849927e+03 1.81684241e+03 1.84040088e+03]\n",
      "8 day output [[1845.9941]]\n",
      "9 day input [3.85160057e-01 3.60273749e-01 3.67087858e-01 4.00121469e-01\n",
      " 4.08416905e-01 4.32725495e-01 4.23970847e-01 4.17749270e-01\n",
      " 4.17734457e-01 4.18193669e-01 4.38487861e-01 4.59226451e-01\n",
      " 4.65744293e-01 4.64425911e-01 4.75965455e-01 4.79224377e-01\n",
      " 4.78335580e-01 4.84853423e-01 4.77150518e-01 4.83668360e-01\n",
      " 4.77891182e-01 4.68129231e-01 4.71077073e-01 4.66055372e-01\n",
      " 4.52412342e-01 4.39243338e-01 4.11261054e-01 4.18193669e-01\n",
      " 4.44724251e-01 4.42487446e-01 4.40872798e-01 4.36858400e-01\n",
      " 4.44116906e-01 4.11409187e-01 4.09305702e-01 4.07365162e-01\n",
      " 4.21304457e-01 4.14786615e-01 4.11246241e-01 4.10061179e-01\n",
      " 4.08861303e-01 4.09305702e-01 4.10949976e-01 4.07691054e-01\n",
      " 3.86345120e-01 4.10801843e-01 4.13305287e-01 4.32414416e-01\n",
      " 4.37169479e-01 4.35377072e-01 4.33021761e-01 4.08713170e-01\n",
      " 4.11675826e-01 3.99232672e-01 4.05009851e-01 4.11216615e-01\n",
      " 3.92137112e-01 4.00714000e-01 3.92137112e-01 3.89589228e-01\n",
      " 4.05602382e-01 4.07824374e-01 4.04565452e-01 4.03839602e-01\n",
      " 4.06802258e-01 4.01306531e-01 4.14934748e-01 4.18489934e-01\n",
      " 4.19808316e-01 4.16875287e-01 4.19097279e-01 4.22933918e-01\n",
      " 4.36710267e-01 4.33451346e-01 4.22933918e-01 4.16134623e-01\n",
      " 4.07083710e-01 4.09764913e-01 3.99988149e-01 3.99691884e-01\n",
      " 3.98951220e-01 4.00269602e-01 3.97010680e-01 3.95084954e-01\n",
      " 4.01454664e-01 4.06194913e-01 4.02476780e-01 4.00862133e-01\n",
      " 3.96270016e-01 3.97751344e-01 3.97455079e-01 2.62117767e+02\n",
      " 5.73589661e+02 1.02138580e+03 1.40028296e+03 1.63511121e+03\n",
      " 1.75849927e+03 1.81684241e+03 1.84040088e+03 1.84599414e+03]\n",
      "9 day output [[1842.6957]]\n",
      "10 day input [3.60273749e-01 3.67087858e-01 4.00121469e-01 4.08416905e-01\n",
      " 4.32725495e-01 4.23970847e-01 4.17749270e-01 4.17734457e-01\n",
      " 4.18193669e-01 4.38487861e-01 4.59226451e-01 4.65744293e-01\n",
      " 4.64425911e-01 4.75965455e-01 4.79224377e-01 4.78335580e-01\n",
      " 4.84853423e-01 4.77150518e-01 4.83668360e-01 4.77891182e-01\n",
      " 4.68129231e-01 4.71077073e-01 4.66055372e-01 4.52412342e-01\n",
      " 4.39243338e-01 4.11261054e-01 4.18193669e-01 4.44724251e-01\n",
      " 4.42487446e-01 4.40872798e-01 4.36858400e-01 4.44116906e-01\n",
      " 4.11409187e-01 4.09305702e-01 4.07365162e-01 4.21304457e-01\n",
      " 4.14786615e-01 4.11246241e-01 4.10061179e-01 4.08861303e-01\n",
      " 4.09305702e-01 4.10949976e-01 4.07691054e-01 3.86345120e-01\n",
      " 4.10801843e-01 4.13305287e-01 4.32414416e-01 4.37169479e-01\n",
      " 4.35377072e-01 4.33021761e-01 4.08713170e-01 4.11675826e-01\n",
      " 3.99232672e-01 4.05009851e-01 4.11216615e-01 3.92137112e-01\n",
      " 4.00714000e-01 3.92137112e-01 3.89589228e-01 4.05602382e-01\n",
      " 4.07824374e-01 4.04565452e-01 4.03839602e-01 4.06802258e-01\n",
      " 4.01306531e-01 4.14934748e-01 4.18489934e-01 4.19808316e-01\n",
      " 4.16875287e-01 4.19097279e-01 4.22933918e-01 4.36710267e-01\n",
      " 4.33451346e-01 4.22933918e-01 4.16134623e-01 4.07083710e-01\n",
      " 4.09764913e-01 3.99988149e-01 3.99691884e-01 3.98951220e-01\n",
      " 4.00269602e-01 3.97010680e-01 3.95084954e-01 4.01454664e-01\n",
      " 4.06194913e-01 4.02476780e-01 4.00862133e-01 3.96270016e-01\n",
      " 3.97751344e-01 3.97455079e-01 2.62117767e+02 5.73589661e+02\n",
      " 1.02138580e+03 1.40028296e+03 1.63511121e+03 1.75849927e+03\n",
      " 1.81684241e+03 1.84040088e+03 1.84599414e+03 1.84269568e+03]\n",
      "10 day output [[1835.387]]\n",
      "11 day input [3.67087858e-01 4.00121469e-01 4.08416905e-01 4.32725495e-01\n",
      " 4.23970847e-01 4.17749270e-01 4.17734457e-01 4.18193669e-01\n",
      " 4.38487861e-01 4.59226451e-01 4.65744293e-01 4.64425911e-01\n",
      " 4.75965455e-01 4.79224377e-01 4.78335580e-01 4.84853423e-01\n",
      " 4.77150518e-01 4.83668360e-01 4.77891182e-01 4.68129231e-01\n",
      " 4.71077073e-01 4.66055372e-01 4.52412342e-01 4.39243338e-01\n",
      " 4.11261054e-01 4.18193669e-01 4.44724251e-01 4.42487446e-01\n",
      " 4.40872798e-01 4.36858400e-01 4.44116906e-01 4.11409187e-01\n",
      " 4.09305702e-01 4.07365162e-01 4.21304457e-01 4.14786615e-01\n",
      " 4.11246241e-01 4.10061179e-01 4.08861303e-01 4.09305702e-01\n",
      " 4.10949976e-01 4.07691054e-01 3.86345120e-01 4.10801843e-01\n",
      " 4.13305287e-01 4.32414416e-01 4.37169479e-01 4.35377072e-01\n",
      " 4.33021761e-01 4.08713170e-01 4.11675826e-01 3.99232672e-01\n",
      " 4.05009851e-01 4.11216615e-01 3.92137112e-01 4.00714000e-01\n",
      " 3.92137112e-01 3.89589228e-01 4.05602382e-01 4.07824374e-01\n",
      " 4.04565452e-01 4.03839602e-01 4.06802258e-01 4.01306531e-01\n",
      " 4.14934748e-01 4.18489934e-01 4.19808316e-01 4.16875287e-01\n",
      " 4.19097279e-01 4.22933918e-01 4.36710267e-01 4.33451346e-01\n",
      " 4.22933918e-01 4.16134623e-01 4.07083710e-01 4.09764913e-01\n",
      " 3.99988149e-01 3.99691884e-01 3.98951220e-01 4.00269602e-01\n",
      " 3.97010680e-01 3.95084954e-01 4.01454664e-01 4.06194913e-01\n",
      " 4.02476780e-01 4.00862133e-01 3.96270016e-01 3.97751344e-01\n",
      " 3.97455079e-01 2.62117767e+02 5.73589661e+02 1.02138580e+03\n",
      " 1.40028296e+03 1.63511121e+03 1.75849927e+03 1.81684241e+03\n",
      " 1.84040088e+03 1.84599414e+03 1.84269568e+03 1.83538696e+03]\n",
      "11 day output [[1826.6738]]\n",
      "12 day input [4.00121469e-01 4.08416905e-01 4.32725495e-01 4.23970847e-01\n",
      " 4.17749270e-01 4.17734457e-01 4.18193669e-01 4.38487861e-01\n",
      " 4.59226451e-01 4.65744293e-01 4.64425911e-01 4.75965455e-01\n",
      " 4.79224377e-01 4.78335580e-01 4.84853423e-01 4.77150518e-01\n",
      " 4.83668360e-01 4.77891182e-01 4.68129231e-01 4.71077073e-01\n",
      " 4.66055372e-01 4.52412342e-01 4.39243338e-01 4.11261054e-01\n",
      " 4.18193669e-01 4.44724251e-01 4.42487446e-01 4.40872798e-01\n",
      " 4.36858400e-01 4.44116906e-01 4.11409187e-01 4.09305702e-01\n",
      " 4.07365162e-01 4.21304457e-01 4.14786615e-01 4.11246241e-01\n",
      " 4.10061179e-01 4.08861303e-01 4.09305702e-01 4.10949976e-01\n",
      " 4.07691054e-01 3.86345120e-01 4.10801843e-01 4.13305287e-01\n",
      " 4.32414416e-01 4.37169479e-01 4.35377072e-01 4.33021761e-01\n",
      " 4.08713170e-01 4.11675826e-01 3.99232672e-01 4.05009851e-01\n",
      " 4.11216615e-01 3.92137112e-01 4.00714000e-01 3.92137112e-01\n",
      " 3.89589228e-01 4.05602382e-01 4.07824374e-01 4.04565452e-01\n",
      " 4.03839602e-01 4.06802258e-01 4.01306531e-01 4.14934748e-01\n",
      " 4.18489934e-01 4.19808316e-01 4.16875287e-01 4.19097279e-01\n",
      " 4.22933918e-01 4.36710267e-01 4.33451346e-01 4.22933918e-01\n",
      " 4.16134623e-01 4.07083710e-01 4.09764913e-01 3.99988149e-01\n",
      " 3.99691884e-01 3.98951220e-01 4.00269602e-01 3.97010680e-01\n",
      " 3.95084954e-01 4.01454664e-01 4.06194913e-01 4.02476780e-01\n",
      " 4.00862133e-01 3.96270016e-01 3.97751344e-01 3.97455079e-01\n",
      " 2.62117767e+02 5.73589661e+02 1.02138580e+03 1.40028296e+03\n",
      " 1.63511121e+03 1.75849927e+03 1.81684241e+03 1.84040088e+03\n",
      " 1.84599414e+03 1.84269568e+03 1.83538696e+03 1.82667383e+03]\n",
      "12 day output [[1817.9094]]\n",
      "13 day input [4.08416905e-01 4.32725495e-01 4.23970847e-01 4.17749270e-01\n",
      " 4.17734457e-01 4.18193669e-01 4.38487861e-01 4.59226451e-01\n",
      " 4.65744293e-01 4.64425911e-01 4.75965455e-01 4.79224377e-01\n",
      " 4.78335580e-01 4.84853423e-01 4.77150518e-01 4.83668360e-01\n",
      " 4.77891182e-01 4.68129231e-01 4.71077073e-01 4.66055372e-01\n",
      " 4.52412342e-01 4.39243338e-01 4.11261054e-01 4.18193669e-01\n",
      " 4.44724251e-01 4.42487446e-01 4.40872798e-01 4.36858400e-01\n",
      " 4.44116906e-01 4.11409187e-01 4.09305702e-01 4.07365162e-01\n",
      " 4.21304457e-01 4.14786615e-01 4.11246241e-01 4.10061179e-01\n",
      " 4.08861303e-01 4.09305702e-01 4.10949976e-01 4.07691054e-01\n",
      " 3.86345120e-01 4.10801843e-01 4.13305287e-01 4.32414416e-01\n",
      " 4.37169479e-01 4.35377072e-01 4.33021761e-01 4.08713170e-01\n",
      " 4.11675826e-01 3.99232672e-01 4.05009851e-01 4.11216615e-01\n",
      " 3.92137112e-01 4.00714000e-01 3.92137112e-01 3.89589228e-01\n",
      " 4.05602382e-01 4.07824374e-01 4.04565452e-01 4.03839602e-01\n",
      " 4.06802258e-01 4.01306531e-01 4.14934748e-01 4.18489934e-01\n",
      " 4.19808316e-01 4.16875287e-01 4.19097279e-01 4.22933918e-01\n",
      " 4.36710267e-01 4.33451346e-01 4.22933918e-01 4.16134623e-01\n",
      " 4.07083710e-01 4.09764913e-01 3.99988149e-01 3.99691884e-01\n",
      " 3.98951220e-01 4.00269602e-01 3.97010680e-01 3.95084954e-01\n",
      " 4.01454664e-01 4.06194913e-01 4.02476780e-01 4.00862133e-01\n",
      " 3.96270016e-01 3.97751344e-01 3.97455079e-01 2.62117767e+02\n",
      " 5.73589661e+02 1.02138580e+03 1.40028296e+03 1.63511121e+03\n",
      " 1.75849927e+03 1.81684241e+03 1.84040088e+03 1.84599414e+03\n",
      " 1.84269568e+03 1.83538696e+03 1.82667383e+03 1.81790942e+03]\n",
      "13 day output [[1809.7557]]\n",
      "14 day input [4.32725495e-01 4.23970847e-01 4.17749270e-01 4.17734457e-01\n",
      " 4.18193669e-01 4.38487861e-01 4.59226451e-01 4.65744293e-01\n",
      " 4.64425911e-01 4.75965455e-01 4.79224377e-01 4.78335580e-01\n",
      " 4.84853423e-01 4.77150518e-01 4.83668360e-01 4.77891182e-01\n",
      " 4.68129231e-01 4.71077073e-01 4.66055372e-01 4.52412342e-01\n",
      " 4.39243338e-01 4.11261054e-01 4.18193669e-01 4.44724251e-01\n",
      " 4.42487446e-01 4.40872798e-01 4.36858400e-01 4.44116906e-01\n",
      " 4.11409187e-01 4.09305702e-01 4.07365162e-01 4.21304457e-01\n",
      " 4.14786615e-01 4.11246241e-01 4.10061179e-01 4.08861303e-01\n",
      " 4.09305702e-01 4.10949976e-01 4.07691054e-01 3.86345120e-01\n",
      " 4.10801843e-01 4.13305287e-01 4.32414416e-01 4.37169479e-01\n",
      " 4.35377072e-01 4.33021761e-01 4.08713170e-01 4.11675826e-01\n",
      " 3.99232672e-01 4.05009851e-01 4.11216615e-01 3.92137112e-01\n",
      " 4.00714000e-01 3.92137112e-01 3.89589228e-01 4.05602382e-01\n",
      " 4.07824374e-01 4.04565452e-01 4.03839602e-01 4.06802258e-01\n",
      " 4.01306531e-01 4.14934748e-01 4.18489934e-01 4.19808316e-01\n",
      " 4.16875287e-01 4.19097279e-01 4.22933918e-01 4.36710267e-01\n",
      " 4.33451346e-01 4.22933918e-01 4.16134623e-01 4.07083710e-01\n",
      " 4.09764913e-01 3.99988149e-01 3.99691884e-01 3.98951220e-01\n",
      " 4.00269602e-01 3.97010680e-01 3.95084954e-01 4.01454664e-01\n",
      " 4.06194913e-01 4.02476780e-01 4.00862133e-01 3.96270016e-01\n",
      " 3.97751344e-01 3.97455079e-01 2.62117767e+02 5.73589661e+02\n",
      " 1.02138580e+03 1.40028296e+03 1.63511121e+03 1.75849927e+03\n",
      " 1.81684241e+03 1.84040088e+03 1.84599414e+03 1.84269568e+03\n",
      " 1.83538696e+03 1.82667383e+03 1.81790942e+03 1.80975574e+03]\n",
      "14 day output [[1802.4938]]\n",
      "15 day input [4.23970847e-01 4.17749270e-01 4.17734457e-01 4.18193669e-01\n",
      " 4.38487861e-01 4.59226451e-01 4.65744293e-01 4.64425911e-01\n",
      " 4.75965455e-01 4.79224377e-01 4.78335580e-01 4.84853423e-01\n",
      " 4.77150518e-01 4.83668360e-01 4.77891182e-01 4.68129231e-01\n",
      " 4.71077073e-01 4.66055372e-01 4.52412342e-01 4.39243338e-01\n",
      " 4.11261054e-01 4.18193669e-01 4.44724251e-01 4.42487446e-01\n",
      " 4.40872798e-01 4.36858400e-01 4.44116906e-01 4.11409187e-01\n",
      " 4.09305702e-01 4.07365162e-01 4.21304457e-01 4.14786615e-01\n",
      " 4.11246241e-01 4.10061179e-01 4.08861303e-01 4.09305702e-01\n",
      " 4.10949976e-01 4.07691054e-01 3.86345120e-01 4.10801843e-01\n",
      " 4.13305287e-01 4.32414416e-01 4.37169479e-01 4.35377072e-01\n",
      " 4.33021761e-01 4.08713170e-01 4.11675826e-01 3.99232672e-01\n",
      " 4.05009851e-01 4.11216615e-01 3.92137112e-01 4.00714000e-01\n",
      " 3.92137112e-01 3.89589228e-01 4.05602382e-01 4.07824374e-01\n",
      " 4.04565452e-01 4.03839602e-01 4.06802258e-01 4.01306531e-01\n",
      " 4.14934748e-01 4.18489934e-01 4.19808316e-01 4.16875287e-01\n",
      " 4.19097279e-01 4.22933918e-01 4.36710267e-01 4.33451346e-01\n",
      " 4.22933918e-01 4.16134623e-01 4.07083710e-01 4.09764913e-01\n",
      " 3.99988149e-01 3.99691884e-01 3.98951220e-01 4.00269602e-01\n",
      " 3.97010680e-01 3.95084954e-01 4.01454664e-01 4.06194913e-01\n",
      " 4.02476780e-01 4.00862133e-01 3.96270016e-01 3.97751344e-01\n",
      " 3.97455079e-01 2.62117767e+02 5.73589661e+02 1.02138580e+03\n",
      " 1.40028296e+03 1.63511121e+03 1.75849927e+03 1.81684241e+03\n",
      " 1.84040088e+03 1.84599414e+03 1.84269568e+03 1.83538696e+03\n",
      " 1.82667383e+03 1.81790942e+03 1.80975574e+03 1.80249377e+03]\n",
      "15 day output [[1796.1958]]\n",
      "16 day input [4.17749270e-01 4.17734457e-01 4.18193669e-01 4.38487861e-01\n",
      " 4.59226451e-01 4.65744293e-01 4.64425911e-01 4.75965455e-01\n",
      " 4.79224377e-01 4.78335580e-01 4.84853423e-01 4.77150518e-01\n",
      " 4.83668360e-01 4.77891182e-01 4.68129231e-01 4.71077073e-01\n",
      " 4.66055372e-01 4.52412342e-01 4.39243338e-01 4.11261054e-01\n",
      " 4.18193669e-01 4.44724251e-01 4.42487446e-01 4.40872798e-01\n",
      " 4.36858400e-01 4.44116906e-01 4.11409187e-01 4.09305702e-01\n",
      " 4.07365162e-01 4.21304457e-01 4.14786615e-01 4.11246241e-01\n",
      " 4.10061179e-01 4.08861303e-01 4.09305702e-01 4.10949976e-01\n",
      " 4.07691054e-01 3.86345120e-01 4.10801843e-01 4.13305287e-01\n",
      " 4.32414416e-01 4.37169479e-01 4.35377072e-01 4.33021761e-01\n",
      " 4.08713170e-01 4.11675826e-01 3.99232672e-01 4.05009851e-01\n",
      " 4.11216615e-01 3.92137112e-01 4.00714000e-01 3.92137112e-01\n",
      " 3.89589228e-01 4.05602382e-01 4.07824374e-01 4.04565452e-01\n",
      " 4.03839602e-01 4.06802258e-01 4.01306531e-01 4.14934748e-01\n",
      " 4.18489934e-01 4.19808316e-01 4.16875287e-01 4.19097279e-01\n",
      " 4.22933918e-01 4.36710267e-01 4.33451346e-01 4.22933918e-01\n",
      " 4.16134623e-01 4.07083710e-01 4.09764913e-01 3.99988149e-01\n",
      " 3.99691884e-01 3.98951220e-01 4.00269602e-01 3.97010680e-01\n",
      " 3.95084954e-01 4.01454664e-01 4.06194913e-01 4.02476780e-01\n",
      " 4.00862133e-01 3.96270016e-01 3.97751344e-01 3.97455079e-01\n",
      " 2.62117767e+02 5.73589661e+02 1.02138580e+03 1.40028296e+03\n",
      " 1.63511121e+03 1.75849927e+03 1.81684241e+03 1.84040088e+03\n",
      " 1.84599414e+03 1.84269568e+03 1.83538696e+03 1.82667383e+03\n",
      " 1.81790942e+03 1.80975574e+03 1.80249377e+03 1.79619580e+03]\n",
      "16 day output [[1790.828]]\n",
      "17 day input [4.17734457e-01 4.18193669e-01 4.38487861e-01 4.59226451e-01\n",
      " 4.65744293e-01 4.64425911e-01 4.75965455e-01 4.79224377e-01\n",
      " 4.78335580e-01 4.84853423e-01 4.77150518e-01 4.83668360e-01\n",
      " 4.77891182e-01 4.68129231e-01 4.71077073e-01 4.66055372e-01\n",
      " 4.52412342e-01 4.39243338e-01 4.11261054e-01 4.18193669e-01\n",
      " 4.44724251e-01 4.42487446e-01 4.40872798e-01 4.36858400e-01\n",
      " 4.44116906e-01 4.11409187e-01 4.09305702e-01 4.07365162e-01\n",
      " 4.21304457e-01 4.14786615e-01 4.11246241e-01 4.10061179e-01\n",
      " 4.08861303e-01 4.09305702e-01 4.10949976e-01 4.07691054e-01\n",
      " 3.86345120e-01 4.10801843e-01 4.13305287e-01 4.32414416e-01\n",
      " 4.37169479e-01 4.35377072e-01 4.33021761e-01 4.08713170e-01\n",
      " 4.11675826e-01 3.99232672e-01 4.05009851e-01 4.11216615e-01\n",
      " 3.92137112e-01 4.00714000e-01 3.92137112e-01 3.89589228e-01\n",
      " 4.05602382e-01 4.07824374e-01 4.04565452e-01 4.03839602e-01\n",
      " 4.06802258e-01 4.01306531e-01 4.14934748e-01 4.18489934e-01\n",
      " 4.19808316e-01 4.16875287e-01 4.19097279e-01 4.22933918e-01\n",
      " 4.36710267e-01 4.33451346e-01 4.22933918e-01 4.16134623e-01\n",
      " 4.07083710e-01 4.09764913e-01 3.99988149e-01 3.99691884e-01\n",
      " 3.98951220e-01 4.00269602e-01 3.97010680e-01 3.95084954e-01\n",
      " 4.01454664e-01 4.06194913e-01 4.02476780e-01 4.00862133e-01\n",
      " 3.96270016e-01 3.97751344e-01 3.97455079e-01 2.62117767e+02\n",
      " 5.73589661e+02 1.02138580e+03 1.40028296e+03 1.63511121e+03\n",
      " 1.75849927e+03 1.81684241e+03 1.84040088e+03 1.84599414e+03\n",
      " 1.84269568e+03 1.83538696e+03 1.82667383e+03 1.81790942e+03\n",
      " 1.80975574e+03 1.80249377e+03 1.79619580e+03 1.79082800e+03]\n",
      "17 day output [[1786.3046]]\n",
      "18 day input [4.18193669e-01 4.38487861e-01 4.59226451e-01 4.65744293e-01\n",
      " 4.64425911e-01 4.75965455e-01 4.79224377e-01 4.78335580e-01\n",
      " 4.84853423e-01 4.77150518e-01 4.83668360e-01 4.77891182e-01\n",
      " 4.68129231e-01 4.71077073e-01 4.66055372e-01 4.52412342e-01\n",
      " 4.39243338e-01 4.11261054e-01 4.18193669e-01 4.44724251e-01\n",
      " 4.42487446e-01 4.40872798e-01 4.36858400e-01 4.44116906e-01\n",
      " 4.11409187e-01 4.09305702e-01 4.07365162e-01 4.21304457e-01\n",
      " 4.14786615e-01 4.11246241e-01 4.10061179e-01 4.08861303e-01\n",
      " 4.09305702e-01 4.10949976e-01 4.07691054e-01 3.86345120e-01\n",
      " 4.10801843e-01 4.13305287e-01 4.32414416e-01 4.37169479e-01\n",
      " 4.35377072e-01 4.33021761e-01 4.08713170e-01 4.11675826e-01\n",
      " 3.99232672e-01 4.05009851e-01 4.11216615e-01 3.92137112e-01\n",
      " 4.00714000e-01 3.92137112e-01 3.89589228e-01 4.05602382e-01\n",
      " 4.07824374e-01 4.04565452e-01 4.03839602e-01 4.06802258e-01\n",
      " 4.01306531e-01 4.14934748e-01 4.18489934e-01 4.19808316e-01\n",
      " 4.16875287e-01 4.19097279e-01 4.22933918e-01 4.36710267e-01\n",
      " 4.33451346e-01 4.22933918e-01 4.16134623e-01 4.07083710e-01\n",
      " 4.09764913e-01 3.99988149e-01 3.99691884e-01 3.98951220e-01\n",
      " 4.00269602e-01 3.97010680e-01 3.95084954e-01 4.01454664e-01\n",
      " 4.06194913e-01 4.02476780e-01 4.00862133e-01 3.96270016e-01\n",
      " 3.97751344e-01 3.97455079e-01 2.62117767e+02 5.73589661e+02\n",
      " 1.02138580e+03 1.40028296e+03 1.63511121e+03 1.75849927e+03\n",
      " 1.81684241e+03 1.84040088e+03 1.84599414e+03 1.84269568e+03\n",
      " 1.83538696e+03 1.82667383e+03 1.81790942e+03 1.80975574e+03\n",
      " 1.80249377e+03 1.79619580e+03 1.79082800e+03 1.78630457e+03]\n",
      "18 day output [[1782.5201]]\n",
      "19 day input [4.38487861e-01 4.59226451e-01 4.65744293e-01 4.64425911e-01\n",
      " 4.75965455e-01 4.79224377e-01 4.78335580e-01 4.84853423e-01\n",
      " 4.77150518e-01 4.83668360e-01 4.77891182e-01 4.68129231e-01\n",
      " 4.71077073e-01 4.66055372e-01 4.52412342e-01 4.39243338e-01\n",
      " 4.11261054e-01 4.18193669e-01 4.44724251e-01 4.42487446e-01\n",
      " 4.40872798e-01 4.36858400e-01 4.44116906e-01 4.11409187e-01\n",
      " 4.09305702e-01 4.07365162e-01 4.21304457e-01 4.14786615e-01\n",
      " 4.11246241e-01 4.10061179e-01 4.08861303e-01 4.09305702e-01\n",
      " 4.10949976e-01 4.07691054e-01 3.86345120e-01 4.10801843e-01\n",
      " 4.13305287e-01 4.32414416e-01 4.37169479e-01 4.35377072e-01\n",
      " 4.33021761e-01 4.08713170e-01 4.11675826e-01 3.99232672e-01\n",
      " 4.05009851e-01 4.11216615e-01 3.92137112e-01 4.00714000e-01\n",
      " 3.92137112e-01 3.89589228e-01 4.05602382e-01 4.07824374e-01\n",
      " 4.04565452e-01 4.03839602e-01 4.06802258e-01 4.01306531e-01\n",
      " 4.14934748e-01 4.18489934e-01 4.19808316e-01 4.16875287e-01\n",
      " 4.19097279e-01 4.22933918e-01 4.36710267e-01 4.33451346e-01\n",
      " 4.22933918e-01 4.16134623e-01 4.07083710e-01 4.09764913e-01\n",
      " 3.99988149e-01 3.99691884e-01 3.98951220e-01 4.00269602e-01\n",
      " 3.97010680e-01 3.95084954e-01 4.01454664e-01 4.06194913e-01\n",
      " 4.02476780e-01 4.00862133e-01 3.96270016e-01 3.97751344e-01\n",
      " 3.97455079e-01 2.62117767e+02 5.73589661e+02 1.02138580e+03\n",
      " 1.40028296e+03 1.63511121e+03 1.75849927e+03 1.81684241e+03\n",
      " 1.84040088e+03 1.84599414e+03 1.84269568e+03 1.83538696e+03\n",
      " 1.82667383e+03 1.81790942e+03 1.80975574e+03 1.80249377e+03\n",
      " 1.79619580e+03 1.79082800e+03 1.78630457e+03 1.78252014e+03]\n",
      "19 day output [[1779.367]]\n",
      "20 day input [4.59226451e-01 4.65744293e-01 4.64425911e-01 4.75965455e-01\n",
      " 4.79224377e-01 4.78335580e-01 4.84853423e-01 4.77150518e-01\n",
      " 4.83668360e-01 4.77891182e-01 4.68129231e-01 4.71077073e-01\n",
      " 4.66055372e-01 4.52412342e-01 4.39243338e-01 4.11261054e-01\n",
      " 4.18193669e-01 4.44724251e-01 4.42487446e-01 4.40872798e-01\n",
      " 4.36858400e-01 4.44116906e-01 4.11409187e-01 4.09305702e-01\n",
      " 4.07365162e-01 4.21304457e-01 4.14786615e-01 4.11246241e-01\n",
      " 4.10061179e-01 4.08861303e-01 4.09305702e-01 4.10949976e-01\n",
      " 4.07691054e-01 3.86345120e-01 4.10801843e-01 4.13305287e-01\n",
      " 4.32414416e-01 4.37169479e-01 4.35377072e-01 4.33021761e-01\n",
      " 4.08713170e-01 4.11675826e-01 3.99232672e-01 4.05009851e-01\n",
      " 4.11216615e-01 3.92137112e-01 4.00714000e-01 3.92137112e-01\n",
      " 3.89589228e-01 4.05602382e-01 4.07824374e-01 4.04565452e-01\n",
      " 4.03839602e-01 4.06802258e-01 4.01306531e-01 4.14934748e-01\n",
      " 4.18489934e-01 4.19808316e-01 4.16875287e-01 4.19097279e-01\n",
      " 4.22933918e-01 4.36710267e-01 4.33451346e-01 4.22933918e-01\n",
      " 4.16134623e-01 4.07083710e-01 4.09764913e-01 3.99988149e-01\n",
      " 3.99691884e-01 3.98951220e-01 4.00269602e-01 3.97010680e-01\n",
      " 3.95084954e-01 4.01454664e-01 4.06194913e-01 4.02476780e-01\n",
      " 4.00862133e-01 3.96270016e-01 3.97751344e-01 3.97455079e-01\n",
      " 2.62117767e+02 5.73589661e+02 1.02138580e+03 1.40028296e+03\n",
      " 1.63511121e+03 1.75849927e+03 1.81684241e+03 1.84040088e+03\n",
      " 1.84599414e+03 1.84269568e+03 1.83538696e+03 1.82667383e+03\n",
      " 1.81790942e+03 1.80975574e+03 1.80249377e+03 1.79619580e+03\n",
      " 1.79082800e+03 1.78630457e+03 1.78252014e+03 1.77936694e+03]\n",
      "20 day output [[1776.7471]]\n",
      "21 day input [4.65744293e-01 4.64425911e-01 4.75965455e-01 4.79224377e-01\n",
      " 4.78335580e-01 4.84853423e-01 4.77150518e-01 4.83668360e-01\n",
      " 4.77891182e-01 4.68129231e-01 4.71077073e-01 4.66055372e-01\n",
      " 4.52412342e-01 4.39243338e-01 4.11261054e-01 4.18193669e-01\n",
      " 4.44724251e-01 4.42487446e-01 4.40872798e-01 4.36858400e-01\n",
      " 4.44116906e-01 4.11409187e-01 4.09305702e-01 4.07365162e-01\n",
      " 4.21304457e-01 4.14786615e-01 4.11246241e-01 4.10061179e-01\n",
      " 4.08861303e-01 4.09305702e-01 4.10949976e-01 4.07691054e-01\n",
      " 3.86345120e-01 4.10801843e-01 4.13305287e-01 4.32414416e-01\n",
      " 4.37169479e-01 4.35377072e-01 4.33021761e-01 4.08713170e-01\n",
      " 4.11675826e-01 3.99232672e-01 4.05009851e-01 4.11216615e-01\n",
      " 3.92137112e-01 4.00714000e-01 3.92137112e-01 3.89589228e-01\n",
      " 4.05602382e-01 4.07824374e-01 4.04565452e-01 4.03839602e-01\n",
      " 4.06802258e-01 4.01306531e-01 4.14934748e-01 4.18489934e-01\n",
      " 4.19808316e-01 4.16875287e-01 4.19097279e-01 4.22933918e-01\n",
      " 4.36710267e-01 4.33451346e-01 4.22933918e-01 4.16134623e-01\n",
      " 4.07083710e-01 4.09764913e-01 3.99988149e-01 3.99691884e-01\n",
      " 3.98951220e-01 4.00269602e-01 3.97010680e-01 3.95084954e-01\n",
      " 4.01454664e-01 4.06194913e-01 4.02476780e-01 4.00862133e-01\n",
      " 3.96270016e-01 3.97751344e-01 3.97455079e-01 2.62117767e+02\n",
      " 5.73589661e+02 1.02138580e+03 1.40028296e+03 1.63511121e+03\n",
      " 1.75849927e+03 1.81684241e+03 1.84040088e+03 1.84599414e+03\n",
      " 1.84269568e+03 1.83538696e+03 1.82667383e+03 1.81790942e+03\n",
      " 1.80975574e+03 1.80249377e+03 1.79619580e+03 1.79082800e+03\n",
      " 1.78630457e+03 1.78252014e+03 1.77936694e+03 1.77674707e+03]\n",
      "21 day output [[1774.5703]]\n",
      "22 day input [4.64425911e-01 4.75965455e-01 4.79224377e-01 4.78335580e-01\n",
      " 4.84853423e-01 4.77150518e-01 4.83668360e-01 4.77891182e-01\n",
      " 4.68129231e-01 4.71077073e-01 4.66055372e-01 4.52412342e-01\n",
      " 4.39243338e-01 4.11261054e-01 4.18193669e-01 4.44724251e-01\n",
      " 4.42487446e-01 4.40872798e-01 4.36858400e-01 4.44116906e-01\n",
      " 4.11409187e-01 4.09305702e-01 4.07365162e-01 4.21304457e-01\n",
      " 4.14786615e-01 4.11246241e-01 4.10061179e-01 4.08861303e-01\n",
      " 4.09305702e-01 4.10949976e-01 4.07691054e-01 3.86345120e-01\n",
      " 4.10801843e-01 4.13305287e-01 4.32414416e-01 4.37169479e-01\n",
      " 4.35377072e-01 4.33021761e-01 4.08713170e-01 4.11675826e-01\n",
      " 3.99232672e-01 4.05009851e-01 4.11216615e-01 3.92137112e-01\n",
      " 4.00714000e-01 3.92137112e-01 3.89589228e-01 4.05602382e-01\n",
      " 4.07824374e-01 4.04565452e-01 4.03839602e-01 4.06802258e-01\n",
      " 4.01306531e-01 4.14934748e-01 4.18489934e-01 4.19808316e-01\n",
      " 4.16875287e-01 4.19097279e-01 4.22933918e-01 4.36710267e-01\n",
      " 4.33451346e-01 4.22933918e-01 4.16134623e-01 4.07083710e-01\n",
      " 4.09764913e-01 3.99988149e-01 3.99691884e-01 3.98951220e-01\n",
      " 4.00269602e-01 3.97010680e-01 3.95084954e-01 4.01454664e-01\n",
      " 4.06194913e-01 4.02476780e-01 4.00862133e-01 3.96270016e-01\n",
      " 3.97751344e-01 3.97455079e-01 2.62117767e+02 5.73589661e+02\n",
      " 1.02138580e+03 1.40028296e+03 1.63511121e+03 1.75849927e+03\n",
      " 1.81684241e+03 1.84040088e+03 1.84599414e+03 1.84269568e+03\n",
      " 1.83538696e+03 1.82667383e+03 1.81790942e+03 1.80975574e+03\n",
      " 1.80249377e+03 1.79619580e+03 1.79082800e+03 1.78630457e+03\n",
      " 1.78252014e+03 1.77936694e+03 1.77674707e+03 1.77457031e+03]\n",
      "22 day output [[1772.7615]]\n",
      "23 day input [4.75965455e-01 4.79224377e-01 4.78335580e-01 4.84853423e-01\n",
      " 4.77150518e-01 4.83668360e-01 4.77891182e-01 4.68129231e-01\n",
      " 4.71077073e-01 4.66055372e-01 4.52412342e-01 4.39243338e-01\n",
      " 4.11261054e-01 4.18193669e-01 4.44724251e-01 4.42487446e-01\n",
      " 4.40872798e-01 4.36858400e-01 4.44116906e-01 4.11409187e-01\n",
      " 4.09305702e-01 4.07365162e-01 4.21304457e-01 4.14786615e-01\n",
      " 4.11246241e-01 4.10061179e-01 4.08861303e-01 4.09305702e-01\n",
      " 4.10949976e-01 4.07691054e-01 3.86345120e-01 4.10801843e-01\n",
      " 4.13305287e-01 4.32414416e-01 4.37169479e-01 4.35377072e-01\n",
      " 4.33021761e-01 4.08713170e-01 4.11675826e-01 3.99232672e-01\n",
      " 4.05009851e-01 4.11216615e-01 3.92137112e-01 4.00714000e-01\n",
      " 3.92137112e-01 3.89589228e-01 4.05602382e-01 4.07824374e-01\n",
      " 4.04565452e-01 4.03839602e-01 4.06802258e-01 4.01306531e-01\n",
      " 4.14934748e-01 4.18489934e-01 4.19808316e-01 4.16875287e-01\n",
      " 4.19097279e-01 4.22933918e-01 4.36710267e-01 4.33451346e-01\n",
      " 4.22933918e-01 4.16134623e-01 4.07083710e-01 4.09764913e-01\n",
      " 3.99988149e-01 3.99691884e-01 3.98951220e-01 4.00269602e-01\n",
      " 3.97010680e-01 3.95084954e-01 4.01454664e-01 4.06194913e-01\n",
      " 4.02476780e-01 4.00862133e-01 3.96270016e-01 3.97751344e-01\n",
      " 3.97455079e-01 2.62117767e+02 5.73589661e+02 1.02138580e+03\n",
      " 1.40028296e+03 1.63511121e+03 1.75849927e+03 1.81684241e+03\n",
      " 1.84040088e+03 1.84599414e+03 1.84269568e+03 1.83538696e+03\n",
      " 1.82667383e+03 1.81790942e+03 1.80975574e+03 1.80249377e+03\n",
      " 1.79619580e+03 1.79082800e+03 1.78630457e+03 1.78252014e+03\n",
      " 1.77936694e+03 1.77674707e+03 1.77457031e+03 1.77276147e+03]\n",
      "23 day output [[1771.2561]]\n",
      "24 day input [4.79224377e-01 4.78335580e-01 4.84853423e-01 4.77150518e-01\n",
      " 4.83668360e-01 4.77891182e-01 4.68129231e-01 4.71077073e-01\n",
      " 4.66055372e-01 4.52412342e-01 4.39243338e-01 4.11261054e-01\n",
      " 4.18193669e-01 4.44724251e-01 4.42487446e-01 4.40872798e-01\n",
      " 4.36858400e-01 4.44116906e-01 4.11409187e-01 4.09305702e-01\n",
      " 4.07365162e-01 4.21304457e-01 4.14786615e-01 4.11246241e-01\n",
      " 4.10061179e-01 4.08861303e-01 4.09305702e-01 4.10949976e-01\n",
      " 4.07691054e-01 3.86345120e-01 4.10801843e-01 4.13305287e-01\n",
      " 4.32414416e-01 4.37169479e-01 4.35377072e-01 4.33021761e-01\n",
      " 4.08713170e-01 4.11675826e-01 3.99232672e-01 4.05009851e-01\n",
      " 4.11216615e-01 3.92137112e-01 4.00714000e-01 3.92137112e-01\n",
      " 3.89589228e-01 4.05602382e-01 4.07824374e-01 4.04565452e-01\n",
      " 4.03839602e-01 4.06802258e-01 4.01306531e-01 4.14934748e-01\n",
      " 4.18489934e-01 4.19808316e-01 4.16875287e-01 4.19097279e-01\n",
      " 4.22933918e-01 4.36710267e-01 4.33451346e-01 4.22933918e-01\n",
      " 4.16134623e-01 4.07083710e-01 4.09764913e-01 3.99988149e-01\n",
      " 3.99691884e-01 3.98951220e-01 4.00269602e-01 3.97010680e-01\n",
      " 3.95084954e-01 4.01454664e-01 4.06194913e-01 4.02476780e-01\n",
      " 4.00862133e-01 3.96270016e-01 3.97751344e-01 3.97455079e-01\n",
      " 2.62117767e+02 5.73589661e+02 1.02138580e+03 1.40028296e+03\n",
      " 1.63511121e+03 1.75849927e+03 1.81684241e+03 1.84040088e+03\n",
      " 1.84599414e+03 1.84269568e+03 1.83538696e+03 1.82667383e+03\n",
      " 1.81790942e+03 1.80975574e+03 1.80249377e+03 1.79619580e+03\n",
      " 1.79082800e+03 1.78630457e+03 1.78252014e+03 1.77936694e+03\n",
      " 1.77674707e+03 1.77457031e+03 1.77276147e+03 1.77125610e+03]\n",
      "24 day output [[1770.0007]]\n",
      "25 day input [4.78335580e-01 4.84853423e-01 4.77150518e-01 4.83668360e-01\n",
      " 4.77891182e-01 4.68129231e-01 4.71077073e-01 4.66055372e-01\n",
      " 4.52412342e-01 4.39243338e-01 4.11261054e-01 4.18193669e-01\n",
      " 4.44724251e-01 4.42487446e-01 4.40872798e-01 4.36858400e-01\n",
      " 4.44116906e-01 4.11409187e-01 4.09305702e-01 4.07365162e-01\n",
      " 4.21304457e-01 4.14786615e-01 4.11246241e-01 4.10061179e-01\n",
      " 4.08861303e-01 4.09305702e-01 4.10949976e-01 4.07691054e-01\n",
      " 3.86345120e-01 4.10801843e-01 4.13305287e-01 4.32414416e-01\n",
      " 4.37169479e-01 4.35377072e-01 4.33021761e-01 4.08713170e-01\n",
      " 4.11675826e-01 3.99232672e-01 4.05009851e-01 4.11216615e-01\n",
      " 3.92137112e-01 4.00714000e-01 3.92137112e-01 3.89589228e-01\n",
      " 4.05602382e-01 4.07824374e-01 4.04565452e-01 4.03839602e-01\n",
      " 4.06802258e-01 4.01306531e-01 4.14934748e-01 4.18489934e-01\n",
      " 4.19808316e-01 4.16875287e-01 4.19097279e-01 4.22933918e-01\n",
      " 4.36710267e-01 4.33451346e-01 4.22933918e-01 4.16134623e-01\n",
      " 4.07083710e-01 4.09764913e-01 3.99988149e-01 3.99691884e-01\n",
      " 3.98951220e-01 4.00269602e-01 3.97010680e-01 3.95084954e-01\n",
      " 4.01454664e-01 4.06194913e-01 4.02476780e-01 4.00862133e-01\n",
      " 3.96270016e-01 3.97751344e-01 3.97455079e-01 2.62117767e+02\n",
      " 5.73589661e+02 1.02138580e+03 1.40028296e+03 1.63511121e+03\n",
      " 1.75849927e+03 1.81684241e+03 1.84040088e+03 1.84599414e+03\n",
      " 1.84269568e+03 1.83538696e+03 1.82667383e+03 1.81790942e+03\n",
      " 1.80975574e+03 1.80249377e+03 1.79619580e+03 1.79082800e+03\n",
      " 1.78630457e+03 1.78252014e+03 1.77936694e+03 1.77674707e+03\n",
      " 1.77457031e+03 1.77276147e+03 1.77125610e+03 1.77000073e+03]\n",
      "25 day output [[1768.9513]]\n",
      "26 day input [4.84853423e-01 4.77150518e-01 4.83668360e-01 4.77891182e-01\n",
      " 4.68129231e-01 4.71077073e-01 4.66055372e-01 4.52412342e-01\n",
      " 4.39243338e-01 4.11261054e-01 4.18193669e-01 4.44724251e-01\n",
      " 4.42487446e-01 4.40872798e-01 4.36858400e-01 4.44116906e-01\n",
      " 4.11409187e-01 4.09305702e-01 4.07365162e-01 4.21304457e-01\n",
      " 4.14786615e-01 4.11246241e-01 4.10061179e-01 4.08861303e-01\n",
      " 4.09305702e-01 4.10949976e-01 4.07691054e-01 3.86345120e-01\n",
      " 4.10801843e-01 4.13305287e-01 4.32414416e-01 4.37169479e-01\n",
      " 4.35377072e-01 4.33021761e-01 4.08713170e-01 4.11675826e-01\n",
      " 3.99232672e-01 4.05009851e-01 4.11216615e-01 3.92137112e-01\n",
      " 4.00714000e-01 3.92137112e-01 3.89589228e-01 4.05602382e-01\n",
      " 4.07824374e-01 4.04565452e-01 4.03839602e-01 4.06802258e-01\n",
      " 4.01306531e-01 4.14934748e-01 4.18489934e-01 4.19808316e-01\n",
      " 4.16875287e-01 4.19097279e-01 4.22933918e-01 4.36710267e-01\n",
      " 4.33451346e-01 4.22933918e-01 4.16134623e-01 4.07083710e-01\n",
      " 4.09764913e-01 3.99988149e-01 3.99691884e-01 3.98951220e-01\n",
      " 4.00269602e-01 3.97010680e-01 3.95084954e-01 4.01454664e-01\n",
      " 4.06194913e-01 4.02476780e-01 4.00862133e-01 3.96270016e-01\n",
      " 3.97751344e-01 3.97455079e-01 2.62117767e+02 5.73589661e+02\n",
      " 1.02138580e+03 1.40028296e+03 1.63511121e+03 1.75849927e+03\n",
      " 1.81684241e+03 1.84040088e+03 1.84599414e+03 1.84269568e+03\n",
      " 1.83538696e+03 1.82667383e+03 1.81790942e+03 1.80975574e+03\n",
      " 1.80249377e+03 1.79619580e+03 1.79082800e+03 1.78630457e+03\n",
      " 1.78252014e+03 1.77936694e+03 1.77674707e+03 1.77457031e+03\n",
      " 1.77276147e+03 1.77125610e+03 1.77000073e+03 1.76895129e+03]\n",
      "26 day output [[1768.0725]]\n",
      "27 day input [4.77150518e-01 4.83668360e-01 4.77891182e-01 4.68129231e-01\n",
      " 4.71077073e-01 4.66055372e-01 4.52412342e-01 4.39243338e-01\n",
      " 4.11261054e-01 4.18193669e-01 4.44724251e-01 4.42487446e-01\n",
      " 4.40872798e-01 4.36858400e-01 4.44116906e-01 4.11409187e-01\n",
      " 4.09305702e-01 4.07365162e-01 4.21304457e-01 4.14786615e-01\n",
      " 4.11246241e-01 4.10061179e-01 4.08861303e-01 4.09305702e-01\n",
      " 4.10949976e-01 4.07691054e-01 3.86345120e-01 4.10801843e-01\n",
      " 4.13305287e-01 4.32414416e-01 4.37169479e-01 4.35377072e-01\n",
      " 4.33021761e-01 4.08713170e-01 4.11675826e-01 3.99232672e-01\n",
      " 4.05009851e-01 4.11216615e-01 3.92137112e-01 4.00714000e-01\n",
      " 3.92137112e-01 3.89589228e-01 4.05602382e-01 4.07824374e-01\n",
      " 4.04565452e-01 4.03839602e-01 4.06802258e-01 4.01306531e-01\n",
      " 4.14934748e-01 4.18489934e-01 4.19808316e-01 4.16875287e-01\n",
      " 4.19097279e-01 4.22933918e-01 4.36710267e-01 4.33451346e-01\n",
      " 4.22933918e-01 4.16134623e-01 4.07083710e-01 4.09764913e-01\n",
      " 3.99988149e-01 3.99691884e-01 3.98951220e-01 4.00269602e-01\n",
      " 3.97010680e-01 3.95084954e-01 4.01454664e-01 4.06194913e-01\n",
      " 4.02476780e-01 4.00862133e-01 3.96270016e-01 3.97751344e-01\n",
      " 3.97455079e-01 2.62117767e+02 5.73589661e+02 1.02138580e+03\n",
      " 1.40028296e+03 1.63511121e+03 1.75849927e+03 1.81684241e+03\n",
      " 1.84040088e+03 1.84599414e+03 1.84269568e+03 1.83538696e+03\n",
      " 1.82667383e+03 1.81790942e+03 1.80975574e+03 1.80249377e+03\n",
      " 1.79619580e+03 1.79082800e+03 1.78630457e+03 1.78252014e+03\n",
      " 1.77936694e+03 1.77674707e+03 1.77457031e+03 1.77276147e+03\n",
      " 1.77125610e+03 1.77000073e+03 1.76895129e+03 1.76807251e+03]\n",
      "27 day output [[1767.3351]]\n",
      "28 day input [4.83668360e-01 4.77891182e-01 4.68129231e-01 4.71077073e-01\n",
      " 4.66055372e-01 4.52412342e-01 4.39243338e-01 4.11261054e-01\n",
      " 4.18193669e-01 4.44724251e-01 4.42487446e-01 4.40872798e-01\n",
      " 4.36858400e-01 4.44116906e-01 4.11409187e-01 4.09305702e-01\n",
      " 4.07365162e-01 4.21304457e-01 4.14786615e-01 4.11246241e-01\n",
      " 4.10061179e-01 4.08861303e-01 4.09305702e-01 4.10949976e-01\n",
      " 4.07691054e-01 3.86345120e-01 4.10801843e-01 4.13305287e-01\n",
      " 4.32414416e-01 4.37169479e-01 4.35377072e-01 4.33021761e-01\n",
      " 4.08713170e-01 4.11675826e-01 3.99232672e-01 4.05009851e-01\n",
      " 4.11216615e-01 3.92137112e-01 4.00714000e-01 3.92137112e-01\n",
      " 3.89589228e-01 4.05602382e-01 4.07824374e-01 4.04565452e-01\n",
      " 4.03839602e-01 4.06802258e-01 4.01306531e-01 4.14934748e-01\n",
      " 4.18489934e-01 4.19808316e-01 4.16875287e-01 4.19097279e-01\n",
      " 4.22933918e-01 4.36710267e-01 4.33451346e-01 4.22933918e-01\n",
      " 4.16134623e-01 4.07083710e-01 4.09764913e-01 3.99988149e-01\n",
      " 3.99691884e-01 3.98951220e-01 4.00269602e-01 3.97010680e-01\n",
      " 3.95084954e-01 4.01454664e-01 4.06194913e-01 4.02476780e-01\n",
      " 4.00862133e-01 3.96270016e-01 3.97751344e-01 3.97455079e-01\n",
      " 2.62117767e+02 5.73589661e+02 1.02138580e+03 1.40028296e+03\n",
      " 1.63511121e+03 1.75849927e+03 1.81684241e+03 1.84040088e+03\n",
      " 1.84599414e+03 1.84269568e+03 1.83538696e+03 1.82667383e+03\n",
      " 1.81790942e+03 1.80975574e+03 1.80249377e+03 1.79619580e+03\n",
      " 1.79082800e+03 1.78630457e+03 1.78252014e+03 1.77936694e+03\n",
      " 1.77674707e+03 1.77457031e+03 1.77276147e+03 1.77125610e+03\n",
      " 1.77000073e+03 1.76895129e+03 1.76807251e+03 1.76733508e+03]\n",
      "28 day output [[1766.7152]]\n",
      "29 day input [4.77891182e-01 4.68129231e-01 4.71077073e-01 4.66055372e-01\n",
      " 4.52412342e-01 4.39243338e-01 4.11261054e-01 4.18193669e-01\n",
      " 4.44724251e-01 4.42487446e-01 4.40872798e-01 4.36858400e-01\n",
      " 4.44116906e-01 4.11409187e-01 4.09305702e-01 4.07365162e-01\n",
      " 4.21304457e-01 4.14786615e-01 4.11246241e-01 4.10061179e-01\n",
      " 4.08861303e-01 4.09305702e-01 4.10949976e-01 4.07691054e-01\n",
      " 3.86345120e-01 4.10801843e-01 4.13305287e-01 4.32414416e-01\n",
      " 4.37169479e-01 4.35377072e-01 4.33021761e-01 4.08713170e-01\n",
      " 4.11675826e-01 3.99232672e-01 4.05009851e-01 4.11216615e-01\n",
      " 3.92137112e-01 4.00714000e-01 3.92137112e-01 3.89589228e-01\n",
      " 4.05602382e-01 4.07824374e-01 4.04565452e-01 4.03839602e-01\n",
      " 4.06802258e-01 4.01306531e-01 4.14934748e-01 4.18489934e-01\n",
      " 4.19808316e-01 4.16875287e-01 4.19097279e-01 4.22933918e-01\n",
      " 4.36710267e-01 4.33451346e-01 4.22933918e-01 4.16134623e-01\n",
      " 4.07083710e-01 4.09764913e-01 3.99988149e-01 3.99691884e-01\n",
      " 3.98951220e-01 4.00269602e-01 3.97010680e-01 3.95084954e-01\n",
      " 4.01454664e-01 4.06194913e-01 4.02476780e-01 4.00862133e-01\n",
      " 3.96270016e-01 3.97751344e-01 3.97455079e-01 2.62117767e+02\n",
      " 5.73589661e+02 1.02138580e+03 1.40028296e+03 1.63511121e+03\n",
      " 1.75849927e+03 1.81684241e+03 1.84040088e+03 1.84599414e+03\n",
      " 1.84269568e+03 1.83538696e+03 1.82667383e+03 1.81790942e+03\n",
      " 1.80975574e+03 1.80249377e+03 1.79619580e+03 1.79082800e+03\n",
      " 1.78630457e+03 1.78252014e+03 1.77936694e+03 1.77674707e+03\n",
      " 1.77457031e+03 1.77276147e+03 1.77125610e+03 1.77000073e+03\n",
      " 1.76895129e+03 1.76807251e+03 1.76733508e+03 1.76671521e+03]\n",
      "29 day output [[1766.1927]]\n",
      "[[262.1177673339844], [573.5896606445312], [1021.3858032226562], [1400.282958984375], [1635.1112060546875], [1758.499267578125], [1816.8424072265625], [1840.40087890625], [1845.994140625], [1842.6956787109375], [1835.386962890625], [1826.673828125], [1817.909423828125], [1809.7557373046875], [1802.4937744140625], [1796.19580078125], [1790.8280029296875], [1786.3045654296875], [1782.5201416015625], [1779.366943359375], [1776.7470703125], [1774.5703125], [1772.761474609375], [1771.256103515625], [1770.000732421875], [1768.9512939453125], [1768.072509765625], [1767.3350830078125], [1766.7152099609375], [1766.1927490234375]]\n"
     ]
    }
   ],
   "source": [
    "#dự đoán cho 30 ngày\n",
    "from numpy import array\n",
    "\n",
    "lst_output=[]\n",
    "n_steps=100\n",
    "i=0\n",
    "while(i<30):\n",
    "    if(len(temp_input)>100):\n",
    "        #print temp_input\n",
    "        x_input=np.array(temp_input[1:])\n",
    "        print(\"{} day input {}\".format(i,x_input))\n",
    "        x_input=x_input.reshape(1,-1)\n",
    "        x_input=x_input.reshape(1,n_steps,1)\n",
    "        #print(x_input)\n",
    "        y_input=model.predict(x_input,verbose=0)\n",
    "        y_input=scaler.inverse_transform(y_input)\n",
    "        print(\"{} day output {}\".format(i,y_input))\n",
    "        temp_input.extend(y_input[0].tolist())\n",
    "        temp_input=temp_input[1:]\n",
    "        #print(temp_input)\n",
    "        lst_output.extend(y_input.tolist())\n",
    "        i=i+1\n",
    "    else:\n",
    "        x_input=x_input.reshape((1,n_steps,1))\n",
    "        y_input=model.predict(x_input,verbose=0)\n",
    "        y_input=scaler.inverse_transform(y_input)\n",
    "        print(y_input[0])\n",
    "        temp_input.extend(y_input[0].tolist())\n",
    "        print(len(temp_input))\n",
    "        lst_output.extend(y_input.tolist())\n",
    "        i=i+1\n",
    "   \n",
    "print(lst_output)\n"
   ]
  },
  {
   "cell_type": "code",
   "execution_count": 473,
   "metadata": {},
   "outputs": [],
   "source": [
    "day_new=np.arange(1,101)\n",
    "day_predict=np.arange(101,131)"
   ]
  },
  {
   "cell_type": "code",
   "execution_count": 474,
   "metadata": {},
   "outputs": [],
   "source": [
    "df3=df1.tolist()\n",
    "df3.extend(lst_output)"
   ]
  },
  {
   "cell_type": "code",
   "execution_count": 475,
   "metadata": {},
   "outputs": [
    {
     "data": {
      "text/plain": [
       "1809"
      ]
     },
     "execution_count": 475,
     "metadata": {},
     "output_type": "execute_result"
    }
   ],
   "source": [
    "len(df1)"
   ]
  },
  {
   "cell_type": "code",
   "execution_count": 489,
   "metadata": {},
   "outputs": [
    {
     "data": {
      "image/png": "[encoded data removed]",
      "text/plain": [
       "<Figure size 1000x1000 with 1 Axes>"
      ]
     },
     "metadata": {},
     "output_type": "display_data"
    }
   ],
   "source": [
    "plt.subplots(figsize=(10,10))\n",
    "\n",
    "plt.plot(day_predict,(lst_output))\n",
    "plt.show()\n"
   ]
  },
  {
   "cell_type": "code",
   "execution_count": 477,
   "metadata": {},
   "outputs": [
    {
     "data": {
      "application/vnd.plotly.v1+json": {
       "config": {
        "plotlyServerURL": "https://plot.ly"
       },
       "data": [
        {
         "hovertemplate": "variable=0<br>index=%{x}<br>value=%{y}<extra></extra>",
         "legendgroup": "0",
         "line": {
          "color": "#636efa",
          "dash": "solid"
         },
         "marker": {
          "symbol": "circle"
         },
         "mode": "lines",
         "name": "0",
         "orientation": "v",
         "showlegend": true,
         "type": "scatter",
         "x": [
          0,
          1,
          2,
          3,
          4,
          5,
          6,
          7,
          8,
          9,
          10,
          11,
          12,
          13,
          14,
          15,
          16,
          17,
          18,
          19,
          20,
          21,
          22,
          23,
          24,
          25,
          26,
          27,
          28,
          29,
          30,
          31,
          32,
          33,
          34,
          35,
          36,
          37,
          38
         ],
         "xaxis": "x",
         "y": [
          0.3970106803738872,
          0.39508495415290273,
          0.4014546639607745,
          0.4061949131201209,
          0.40247678018575855,
          0.40086213281585625,
          0.39627001644273935,
          0.3977513443050351,
          0.39745507873257596,
          262.1177673339844,
          573.5896606445312,
          1021.3858032226562,
          1400.282958984375,
          1635.1112060546875,
          1758.499267578125,
          1816.8424072265625,
          1840.40087890625,
          1845.994140625,
          1842.6956787109375,
          1835.386962890625,
          1826.673828125,
          1817.909423828125,
          1809.7557373046875,
          1802.4937744140625,
          1796.19580078125,
          1790.8280029296875,
          1786.3045654296875,
          1782.5201416015625,
          1779.366943359375,
          1776.7470703125,
          1774.5703125,
          1772.761474609375,
          1771.256103515625,
          1770.000732421875,
          1768.9512939453125,
          1768.072509765625,
          1767.3350830078125,
          1766.7152099609375,
          1766.1927490234375
         ],
         "yaxis": "y"
        }
       ],
       "layout": {
        "legend": {
         "title": {
          "text": "variable"
         },
         "tracegroupgap": 0
        },
        "margin": {
         "t": 60
        },
        "template": {
         "data": {
          "bar": [
           {
            "error_x": {
             "color": "#2a3f5f"
            },
            "error_y": {
             "color": "#2a3f5f"
            },
            "marker": {
             "line": {
              "color": "#E5ECF6",
              "width": 0.5
             },
             "pattern": {
              "fillmode": "overlay",
              "size": 10,
              "solidity": 0.2
             }
            },
            "type": "bar"
           }
          ],
          "barpolar": [
           {
            "marker": {
             "line": {
              "color": "#E5ECF6",
              "width": 0.5
             },
             "pattern": {
              "fillmode": "overlay",
              "size": 10,
              "solidity": 0.2
             }
            },
            "type": "barpolar"
           }
          ],
          "carpet": [
           {
            "aaxis": {
             "endlinecolor": "#2a3f5f",
             "gridcolor": "white",
             "linecolor": "white",
             "minorgridcolor": "white",
             "startlinecolor": "#2a3f5f"
            },
            "baxis": {
             "endlinecolor": "#2a3f5f",
             "gridcolor": "white",
             "linecolor": "white",
             "minorgridcolor": "white",
             "startlinecolor": "#2a3f5f"
            },
            "type": "carpet"
           }
          ],
          "choropleth": [
           {
            "colorbar": {
             "outlinewidth": 0,
             "ticks": ""
            },
            "type": "choropleth"
           }
          ],
          "contour": [
           {
            "colorbar": {
             "outlinewidth": 0,
             "ticks": ""
            },
            "colorscale": [
             [
              0,
              "#0d0887"
             ],
             [
              0.1111111111111111,
              "#46039f"
             ],
             [
              0.2222222222222222,
              "#7201a8"
             ],
             [
              0.3333333333333333,
              "#9c179e"
             ],
             [
              0.4444444444444444,
              "#bd3786"
             ],
             [
              0.5555555555555556,
              "#d8576b"
             ],
             [
              0.6666666666666666,
              "#ed7953"
             ],
             [
              0.7777777777777778,
              "#fb9f3a"
             ],
             [
              0.8888888888888888,
              "#fdca26"
             ],
             [
              1,
              "#f0f921"
             ]
            ],
            "type": "contour"
           }
          ],
          "contourcarpet": [
           {
            "colorbar": {
             "outlinewidth": 0,
             "ticks": ""
            },
            "type": "contourcarpet"
           }
          ],
          "heatmap": [
           {
            "colorbar": {
             "outlinewidth": 0,
             "ticks": ""
            },
            "colorscale": [
             [
              0,
              "#0d0887"
             ],
             [
              0.1111111111111111,
              "#46039f"
             ],
             [
              0.2222222222222222,
              "#7201a8"
             ],
             [
              0.3333333333333333,
              "#9c179e"
             ],
             [
              0.4444444444444444,
              "#bd3786"
             ],
             [
              0.5555555555555556,
              "#d8576b"
             ],
             [
              0.6666666666666666,
              "#ed7953"
             ],
             [
              0.7777777777777778,
              "#fb9f3a"
             ],
             [
              0.8888888888888888,
              "#fdca26"
             ],
             [
              1,
              "#f0f921"
             ]
            ],
            "type": "heatmap"
           }
          ],
          "heatmapgl": [
           {
            "colorbar": {
             "outlinewidth": 0,
             "ticks": ""
            },
            "colorscale": [
             [
              0,
              "#0d0887"
             ],
             [
              0.1111111111111111,
              "#46039f"
             ],
             [
              0.2222222222222222,
              "#7201a8"
             ],
             [
              0.3333333333333333,
              "#9c179e"
             ],
             [
              0.4444444444444444,
              "#bd3786"
             ],
             [
              0.5555555555555556,
              "#d8576b"
             ],
             [
              0.6666666666666666,
              "#ed7953"
             ],
             [
              0.7777777777777778,
              "#fb9f3a"
             ],
             [
              0.8888888888888888,
              "#fdca26"
             ],
             [
              1,
              "#f0f921"
             ]
            ],
            "type": "heatmapgl"
           }
          ],
          "histogram": [
           {
            "marker": {
             "pattern": {
              "fillmode": "overlay",
              "size": 10,
              "solidity": 0.2
             }
            },
            "type": "histogram"
           }
          ],
          "histogram2d": [
           {
            "colorbar": {
             "outlinewidth": 0,
             "ticks": ""
            },
            "colorscale": [
             [
              0,
              "#0d0887"
             ],
             [
              0.1111111111111111,
              "#46039f"
             ],
             [
              0.2222222222222222,
              "#7201a8"
             ],
             [
              0.3333333333333333,
              "#9c179e"
             ],
             [
              0.4444444444444444,
              "#bd3786"
             ],
             [
              0.5555555555555556,
              "#d8576b"
             ],
             [
              0.6666666666666666,
              "#ed7953"
             ],
             [
              0.7777777777777778,
              "#fb9f3a"
             ],
             [
              0.8888888888888888,
              "#fdca26"
             ],
             [
              1,
              "#f0f921"
             ]
            ],
            "type": "histogram2d"
           }
          ],
          "histogram2dcontour": [
           {
            "colorbar": {
             "outlinewidth": 0,
             "ticks": ""
            },
            "colorscale": [
             [
              0,
              "#0d0887"
             ],
             [
              0.1111111111111111,
              "#46039f"
             ],
             [
              0.2222222222222222,
              "#7201a8"
             ],
             [
              0.3333333333333333,
              "#9c179e"
             ],
             [
              0.4444444444444444,
              "#bd3786"
             ],
             [
              0.5555555555555556,
              "#d8576b"
             ],
             [
              0.6666666666666666,
              "#ed7953"
             ],
             [
              0.7777777777777778,
              "#fb9f3a"
             ],
             [
              0.8888888888888888,
              "#fdca26"
             ],
             [
              1,
              "#f0f921"
             ]
            ],
            "type": "histogram2dcontour"
           }
          ],
          "mesh3d": [
           {
            "colorbar": {
             "outlinewidth": 0,
             "ticks": ""
            },
            "type": "mesh3d"
           }
          ],
          "parcoords": [
           {
            "line": {
             "colorbar": {
              "outlinewidth": 0,
              "ticks": ""
             }
            },
            "type": "parcoords"
           }
          ],
          "pie": [
           {
            "automargin": true,
            "type": "pie"
           }
          ],
          "scatter": [
           {
            "fillpattern": {
             "fillmode": "overlay",
             "size": 10,
             "solidity": 0.2
            },
            "type": "scatter"
           }
          ],
          "scatter3d": [
           {
            "line": {
             "colorbar": {
              "outlinewidth": 0,
              "ticks": ""
             }
            },
            "marker": {
             "colorbar": {
              "outlinewidth": 0,
              "ticks": ""
             }
            },
            "type": "scatter3d"
           }
          ],
          "scattercarpet": [
           {
            "marker": {
             "colorbar": {
              "outlinewidth": 0,
              "ticks": ""
             }
            },
            "type": "scattercarpet"
           }
          ],
          "scattergeo": [
           {
            "marker": {
             "colorbar": {
              "outlinewidth": 0,
              "ticks": ""
             }
            },
            "type": "scattergeo"
           }
          ],
          "scattergl": [
           {
            "marker": {
             "colorbar": {
              "outlinewidth": 0,
              "ticks": ""
             }
            },
            "type": "scattergl"
           }
          ],
          "scattermapbox": [
           {
            "marker": {
             "colorbar": {
              "outlinewidth": 0,
              "ticks": ""
             }
            },
            "type": "scattermapbox"
           }
          ],
          "scatterpolar": [
           {
            "marker": {
             "colorbar": {
              "outlinewidth": 0,
              "ticks": ""
             }
            },
            "type": "scatterpolar"
           }
          ],
          "scatterpolargl": [
           {
            "marker": {
             "colorbar": {
              "outlinewidth": 0,
              "ticks": ""
             }
            },
            "type": "scatterpolargl"
           }
          ],
          "scatterternary": [
           {
            "marker": {
             "colorbar": {
              "outlinewidth": 0,
              "ticks": ""
             }
            },
            "type": "scatterternary"
           }
          ],
          "surface": [
           {
            "colorbar": {
             "outlinewidth": 0,
             "ticks": ""
            },
            "colorscale": [
             [
              0,
              "#0d0887"
             ],
             [
              0.1111111111111111,
              "#46039f"
             ],
             [
              0.2222222222222222,
              "#7201a8"
             ],
             [
              0.3333333333333333,
              "#9c179e"
             ],
             [
              0.4444444444444444,
              "#bd3786"
             ],
             [
              0.5555555555555556,
              "#d8576b"
             ],
             [
              0.6666666666666666,
              "#ed7953"
             ],
             [
              0.7777777777777778,
              "#fb9f3a"
             ],
             [
              0.8888888888888888,
              "#fdca26"
             ],
             [
              1,
              "#f0f921"
             ]
            ],
            "type": "surface"
           }
          ],
          "table": [
           {
            "cells": {
             "fill": {
              "color": "#EBF0F8"
             },
             "line": {
              "color": "white"
             }
            },
            "header": {
             "fill": {
              "color": "#C8D4E3"
             },
             "line": {
              "color": "white"
             }
            },
            "type": "table"
           }
          ]
         },
         "layout": {
          "annotationdefaults": {
           "arrowcolor": "#2a3f5f",
           "arrowhead": 0,
           "arrowwidth": 1
          },
          "autotypenumbers": "strict",
          "coloraxis": {
           "colorbar": {
            "outlinewidth": 0,
            "ticks": ""
           }
          },
          "colorscale": {
           "diverging": [
            [
             0,
             "#8e0152"
            ],
            [
             0.1,
             "#c51b7d"
            ],
            [
             0.2,
             "#de77ae"
            ],
            [
             0.3,
             "#f1b6da"
            ],
            [
             0.4,
             "#fde0ef"
            ],
            [
             0.5,
             "#f7f7f7"
            ],
            [
             0.6,
             "#e6f5d0"
            ],
            [
             0.7,
             "#b8e186"
            ],
            [
             0.8,
             "#7fbc41"
            ],
            [
             0.9,
             "#4d9221"
            ],
            [
             1,
             "#276419"
            ]
           ],
           "sequential": [
            [
             0,
             "#0d0887"
            ],
            [
             0.1111111111111111,
             "#46039f"
            ],
            [
             0.2222222222222222,
             "#7201a8"
            ],
            [
             0.3333333333333333,
             "#9c179e"
            ],
            [
             0.4444444444444444,
             "#bd3786"
            ],
            [
             0.5555555555555556,
             "#d8576b"
            ],
            [
             0.6666666666666666,
             "#ed7953"
            ],
            [
             0.7777777777777778,
             "#fb9f3a"
            ],
            [
             0.8888888888888888,
             "#fdca26"
            ],
            [
             1,
             "#f0f921"
            ]
           ],
           "sequentialminus": [
            [
             0,
             "#0d0887"
            ],
            [
             0.1111111111111111,
             "#46039f"
            ],
            [
             0.2222222222222222,
             "#7201a8"
            ],
            [
             0.3333333333333333,
             "#9c179e"
            ],
            [
             0.4444444444444444,
             "#bd3786"
            ],
            [
             0.5555555555555556,
             "#d8576b"
            ],
            [
             0.6666666666666666,
             "#ed7953"
            ],
            [
             0.7777777777777778,
             "#fb9f3a"
            ],
            [
             0.8888888888888888,
             "#fdca26"
            ],
            [
             1,
             "#f0f921"
            ]
           ]
          },
          "colorway": [
           "#636efa",
           "#EF553B",
           "#00cc96",
           "#ab63fa",
           "#FFA15A",
           "#19d3f3",
           "#FF6692",
           "#B6E880",
           "#FF97FF",
           "#FECB52"
          ],
          "font": {
           "color": "#2a3f5f"
          },
          "geo": {
           "bgcolor": "white",
           "lakecolor": "white",
           "landcolor": "#E5ECF6",
           "showlakes": true,
           "showland": true,
           "subunitcolor": "white"
          },
          "hoverlabel": {
           "align": "left"
          },
          "hovermode": "closest",
          "mapbox": {
           "style": "light"
          },
          "paper_bgcolor": "white",
          "plot_bgcolor": "#E5ECF6",
          "polar": {
           "angularaxis": {
            "gridcolor": "white",
            "linecolor": "white",
            "ticks": ""
           },
           "bgcolor": "#E5ECF6",
           "radialaxis": {
            "gridcolor": "white",
            "linecolor": "white",
            "ticks": ""
           }
          },
          "scene": {
           "xaxis": {
            "backgroundcolor": "#E5ECF6",
            "gridcolor": "white",
            "gridwidth": 2,
            "linecolor": "white",
            "showbackground": true,
            "ticks": "",
            "zerolinecolor": "white"
           },
           "yaxis": {
            "backgroundcolor": "#E5ECF6",
            "gridcolor": "white",
            "gridwidth": 2,
            "linecolor": "white",
            "showbackground": true,
            "ticks": "",
            "zerolinecolor": "white"
           },
           "zaxis": {
            "backgroundcolor": "#E5ECF6",
            "gridcolor": "white",
            "gridwidth": 2,
            "linecolor": "white",
            "showbackground": true,
            "ticks": "",
            "zerolinecolor": "white"
           }
          },
          "shapedefaults": {
           "line": {
            "color": "#2a3f5f"
           }
          },
          "ternary": {
           "aaxis": {
            "gridcolor": "white",
            "linecolor": "white",
            "ticks": ""
           },
           "baxis": {
            "gridcolor": "white",
            "linecolor": "white",
            "ticks": ""
           },
           "bgcolor": "#E5ECF6",
           "caxis": {
            "gridcolor": "white",
            "linecolor": "white",
            "ticks": ""
           }
          },
          "title": {
           "x": 0.05
          },
          "xaxis": {
           "automargin": true,
           "gridcolor": "white",
           "linecolor": "white",
           "ticks": "",
           "title": {
            "standoff": 15
           },
           "zerolinecolor": "white",
           "zerolinewidth": 2
          },
          "yaxis": {
           "automargin": true,
           "gridcolor": "white",
           "linecolor": "white",
           "ticks": "",
           "title": {
            "standoff": 15
           },
           "zerolinecolor": "white",
           "zerolinewidth": 2
          }
         }
        },
        "xaxis": {
         "anchor": "y",
         "domain": [
          0,
          1
         ],
         "title": {
          "text": "index"
         }
        },
        "yaxis": {
         "anchor": "x",
         "domain": [
          0,
          1
         ],
         "title": {
          "text": "value"
         }
        }
       }
      }
     },
     "metadata": {},
     "output_type": "display_data"
    }
   ],
   "source": [
    "\n",
    "px.line(df3[1800:])\n"
   ]
  },
  {
   "cell_type": "code",
   "execution_count": 478,
   "metadata": {},
   "outputs": [
    {
     "data": {
      "text/plain": [
       "1839"
      ]
     },
     "execution_count": 478,
     "metadata": {},
     "output_type": "execute_result"
    }
   ],
   "source": [
    "len(df3)"
   ]
  },
  {
   "cell_type": "code",
   "execution_count": 479,
   "metadata": {},
   "outputs": [
    {
     "data": {
      "application/vnd.plotly.v1+json": {
       "config": {
        "plotlyServerURL": "https://plot.ly"
       },
       "data": [
        {
         "hovertemplate": "variable=0<br>index=%{x}<br>value=%{y}<extra></extra>",
         "legendgroup": "0",
         "line": {
          "color": "#636efa",
          "dash": "solid"
         },
         "marker": {
          "symbol": "circle"
         },
         "mode": "lines",
         "name": "0",
         "orientation": "v",
         "showlegend": true,
         "type": "scatter",
         "x": [
          0,
          1,
          2,
          3,
          4,
          5,
          6,
          7,
          8,
          9,
          10,
          11,
          12,
          13,
          14,
          15,
          16,
          17,
          18,
          19,
          20,
          21,
          22,
          23,
          24,
          25,
          26,
          27,
          28,
          29,
          30,
          31,
          32,
          33,
          34,
          35,
          36,
          37,
          38
         ],
         "xaxis": "x",
         "y": [
          269.5,
          268.2,
          272.5,
          275.7,
          273.19,
          272.1,
          269,
          270,
          269.8,
          176949.33119415282,
          387214.66221130366,
          689508.4041815185,
          945290.5071215818,
          1103816.0118713377,
          1187111.5905639646,
          1226497.2938464354,
          1242400.911323242,
          1246176.7545117186,
          1243950.0618273923,
          1239016.167038574,
          1233134.1911523435,
          1227217.604743652,
          1221713.2955822751,
          1216810.962293701,
          1212559.3892333983,
          1208935.7499377439,
          1205882.1129846189,
          1203327.3619909666,
          1201198.732453613,
          1199430.1347558592,
          1197960.6708593748,
          1196739.5786645506,
          1195723.3478002928,
          1194875.884436035,
          1194167.440003662,
          1193574.1991674802,
          1193076.3844860839,
          1192657.9267883298,
          1192305.2290832517
         ],
         "yaxis": "y"
        }
       ],
       "layout": {
        "legend": {
         "title": {
          "text": "variable"
         },
         "tracegroupgap": 0
        },
        "margin": {
         "t": 60
        },
        "template": {
         "data": {
          "bar": [
           {
            "error_x": {
             "color": "#2a3f5f"
            },
            "error_y": {
             "color": "#2a3f5f"
            },
            "marker": {
             "line": {
              "color": "#E5ECF6",
              "width": 0.5
             },
             "pattern": {
              "fillmode": "overlay",
              "size": 10,
              "solidity": 0.2
             }
            },
            "type": "bar"
           }
          ],
          "barpolar": [
           {
            "marker": {
             "line": {
              "color": "#E5ECF6",
              "width": 0.5
             },
             "pattern": {
              "fillmode": "overlay",
              "size": 10,
              "solidity": 0.2
             }
            },
            "type": "barpolar"
           }
          ],
          "carpet": [
           {
            "aaxis": {
             "endlinecolor": "#2a3f5f",
             "gridcolor": "white",
             "linecolor": "white",
             "minorgridcolor": "white",
             "startlinecolor": "#2a3f5f"
            },
            "baxis": {
             "endlinecolor": "#2a3f5f",
             "gridcolor": "white",
             "linecolor": "white",
             "minorgridcolor": "white",
             "startlinecolor": "#2a3f5f"
            },
            "type": "carpet"
           }
          ],
          "choropleth": [
           {
            "colorbar": {
             "outlinewidth": 0,
             "ticks": ""
            },
            "type": "choropleth"
           }
          ],
          "contour": [
           {
            "colorbar": {
             "outlinewidth": 0,
             "ticks": ""
            },
            "colorscale": [
             [
              0,
              "#0d0887"
             ],
             [
              0.1111111111111111,
              "#46039f"
             ],
             [
              0.2222222222222222,
              "#7201a8"
             ],
             [
              0.3333333333333333,
              "#9c179e"
             ],
             [
              0.4444444444444444,
              "#bd3786"
             ],
             [
              0.5555555555555556,
              "#d8576b"
             ],
             [
              0.6666666666666666,
              "#ed7953"
             ],
             [
              0.7777777777777778,
              "#fb9f3a"
             ],
             [
              0.8888888888888888,
              "#fdca26"
             ],
             [
              1,
              "#f0f921"
             ]
            ],
            "type": "contour"
           }
          ],
          "contourcarpet": [
           {
            "colorbar": {
             "outlinewidth": 0,
             "ticks": ""
            },
            "type": "contourcarpet"
           }
          ],
          "heatmap": [
           {
            "colorbar": {
             "outlinewidth": 0,
             "ticks": ""
            },
            "colorscale": [
             [
              0,
              "#0d0887"
             ],
             [
              0.1111111111111111,
              "#46039f"
             ],
             [
              0.2222222222222222,
              "#7201a8"
             ],
             [
              0.3333333333333333,
              "#9c179e"
             ],
             [
              0.4444444444444444,
              "#bd3786"
             ],
             [
              0.5555555555555556,
              "#d8576b"
             ],
             [
              0.6666666666666666,
              "#ed7953"
             ],
             [
              0.7777777777777778,
              "#fb9f3a"
             ],
             [
              0.8888888888888888,
              "#fdca26"
             ],
             [
              1,
              "#f0f921"
             ]
            ],
            "type": "heatmap"
           }
          ],
          "heatmapgl": [
           {
            "colorbar": {
             "outlinewidth": 0,
             "ticks": ""
            },
            "colorscale": [
             [
              0,
              "#0d0887"
             ],
             [
              0.1111111111111111,
              "#46039f"
             ],
             [
              0.2222222222222222,
              "#7201a8"
             ],
             [
              0.3333333333333333,
              "#9c179e"
             ],
             [
              0.4444444444444444,
              "#bd3786"
             ],
             [
              0.5555555555555556,
              "#d8576b"
             ],
             [
              0.6666666666666666,
              "#ed7953"
             ],
             [
              0.7777777777777778,
              "#fb9f3a"
             ],
             [
              0.8888888888888888,
              "#fdca26"
             ],
             [
              1,
              "#f0f921"
             ]
            ],
            "type": "heatmapgl"
           }
          ],
          "histogram": [
           {
            "marker": {
             "pattern": {
              "fillmode": "overlay",
              "size": 10,
              "solidity": 0.2
             }
            },
            "type": "histogram"
           }
          ],
          "histogram2d": [
           {
            "colorbar": {
             "outlinewidth": 0,
             "ticks": ""
            },
            "colorscale": [
             [
              0,
              "#0d0887"
             ],
             [
              0.1111111111111111,
              "#46039f"
             ],
             [
              0.2222222222222222,
              "#7201a8"
             ],
             [
              0.3333333333333333,
              "#9c179e"
             ],
             [
              0.4444444444444444,
              "#bd3786"
             ],
             [
              0.5555555555555556,
              "#d8576b"
             ],
             [
              0.6666666666666666,
              "#ed7953"
             ],
             [
              0.7777777777777778,
              "#fb9f3a"
             ],
             [
              0.8888888888888888,
              "#fdca26"
             ],
             [
              1,
              "#f0f921"
             ]
            ],
            "type": "histogram2d"
           }
          ],
          "histogram2dcontour": [
           {
            "colorbar": {
             "outlinewidth": 0,
             "ticks": ""
            },
            "colorscale": [
             [
              0,
              "#0d0887"
             ],
             [
              0.1111111111111111,
              "#46039f"
             ],
             [
              0.2222222222222222,
              "#7201a8"
             ],
             [
              0.3333333333333333,
              "#9c179e"
             ],
             [
              0.4444444444444444,
              "#bd3786"
             ],
             [
              0.5555555555555556,
              "#d8576b"
             ],
             [
              0.6666666666666666,
              "#ed7953"
             ],
             [
              0.7777777777777778,
              "#fb9f3a"
             ],
             [
              0.8888888888888888,
              "#fdca26"
             ],
             [
              1,
              "#f0f921"
             ]
            ],
            "type": "histogram2dcontour"
           }
          ],
          "mesh3d": [
           {
            "colorbar": {
             "outlinewidth": 0,
             "ticks": ""
            },
            "type": "mesh3d"
           }
          ],
          "parcoords": [
           {
            "line": {
             "colorbar": {
              "outlinewidth": 0,
              "ticks": ""
             }
            },
            "type": "parcoords"
           }
          ],
          "pie": [
           {
            "automargin": true,
            "type": "pie"
           }
          ],
          "scatter": [
           {
            "fillpattern": {
             "fillmode": "overlay",
             "size": 10,
             "solidity": 0.2
            },
            "type": "scatter"
           }
          ],
          "scatter3d": [
           {
            "line": {
             "colorbar": {
              "outlinewidth": 0,
              "ticks": ""
             }
            },
            "marker": {
             "colorbar": {
              "outlinewidth": 0,
              "ticks": ""
             }
            },
            "type": "scatter3d"
           }
          ],
          "scattercarpet": [
           {
            "marker": {
             "colorbar": {
              "outlinewidth": 0,
              "ticks": ""
             }
            },
            "type": "scattercarpet"
           }
          ],
          "scattergeo": [
           {
            "marker": {
             "colorbar": {
              "outlinewidth": 0,
              "ticks": ""
             }
            },
            "type": "scattergeo"
           }
          ],
          "scattergl": [
           {
            "marker": {
             "colorbar": {
              "outlinewidth": 0,
              "ticks": ""
             }
            },
            "type": "scattergl"
           }
          ],
          "scattermapbox": [
           {
            "marker": {
             "colorbar": {
              "outlinewidth": 0,
              "ticks": ""
             }
            },
            "type": "scattermapbox"
           }
          ],
          "scatterpolar": [
           {
            "marker": {
             "colorbar": {
              "outlinewidth": 0,
              "ticks": ""
             }
            },
            "type": "scatterpolar"
           }
          ],
          "scatterpolargl": [
           {
            "marker": {
             "colorbar": {
              "outlinewidth": 0,
              "ticks": ""
             }
            },
            "type": "scatterpolargl"
           }
          ],
          "scatterternary": [
           {
            "marker": {
             "colorbar": {
              "outlinewidth": 0,
              "ticks": ""
             }
            },
            "type": "scatterternary"
           }
          ],
          "surface": [
           {
            "colorbar": {
             "outlinewidth": 0,
             "ticks": ""
            },
            "colorscale": [
             [
              0,
              "#0d0887"
             ],
             [
              0.1111111111111111,
              "#46039f"
             ],
             [
              0.2222222222222222,
              "#7201a8"
             ],
             [
              0.3333333333333333,
              "#9c179e"
             ],
             [
              0.4444444444444444,
              "#bd3786"
             ],
             [
              0.5555555555555556,
              "#d8576b"
             ],
             [
              0.6666666666666666,
              "#ed7953"
             ],
             [
              0.7777777777777778,
              "#fb9f3a"
             ],
             [
              0.8888888888888888,
              "#fdca26"
             ],
             [
              1,
              "#f0f921"
             ]
            ],
            "type": "surface"
           }
          ],
          "table": [
           {
            "cells": {
             "fill": {
              "color": "#EBF0F8"
             },
             "line": {
              "color": "white"
             }
            },
            "header": {
             "fill": {
              "color": "#C8D4E3"
             },
             "line": {
              "color": "white"
             }
            },
            "type": "table"
           }
          ]
         },
         "layout": {
          "annotationdefaults": {
           "arrowcolor": "#2a3f5f",
           "arrowhead": 0,
           "arrowwidth": 1
          },
          "autotypenumbers": "strict",
          "coloraxis": {
           "colorbar": {
            "outlinewidth": 0,
            "ticks": ""
           }
          },
          "colorscale": {
           "diverging": [
            [
             0,
             "#8e0152"
            ],
            [
             0.1,
             "#c51b7d"
            ],
            [
             0.2,
             "#de77ae"
            ],
            [
             0.3,
             "#f1b6da"
            ],
            [
             0.4,
             "#fde0ef"
            ],
            [
             0.5,
             "#f7f7f7"
            ],
            [
             0.6,
             "#e6f5d0"
            ],
            [
             0.7,
             "#b8e186"
            ],
            [
             0.8,
             "#7fbc41"
            ],
            [
             0.9,
             "#4d9221"
            ],
            [
             1,
             "#276419"
            ]
           ],
           "sequential": [
            [
             0,
             "#0d0887"
            ],
            [
             0.1111111111111111,
             "#46039f"
            ],
            [
             0.2222222222222222,
             "#7201a8"
            ],
            [
             0.3333333333333333,
             "#9c179e"
            ],
            [
             0.4444444444444444,
             "#bd3786"
            ],
            [
             0.5555555555555556,
             "#d8576b"
            ],
            [
             0.6666666666666666,
             "#ed7953"
            ],
            [
             0.7777777777777778,
             "#fb9f3a"
            ],
            [
             0.8888888888888888,
             "#fdca26"
            ],
            [
             1,
             "#f0f921"
            ]
           ],
           "sequentialminus": [
            [
             0,
             "#0d0887"
            ],
            [
             0.1111111111111111,
             "#46039f"
            ],
            [
             0.2222222222222222,
             "#7201a8"
            ],
            [
             0.3333333333333333,
             "#9c179e"
            ],
            [
             0.4444444444444444,
             "#bd3786"
            ],
            [
             0.5555555555555556,
             "#d8576b"
            ],
            [
             0.6666666666666666,
             "#ed7953"
            ],
            [
             0.7777777777777778,
             "#fb9f3a"
            ],
            [
             0.8888888888888888,
             "#fdca26"
            ],
            [
             1,
             "#f0f921"
            ]
           ]
          },
          "colorway": [
           "#636efa",
           "#EF553B",
           "#00cc96",
           "#ab63fa",
           "#FFA15A",
           "#19d3f3",
           "#FF6692",
           "#B6E880",
           "#FF97FF",
           "#FECB52"
          ],
          "font": {
           "color": "#2a3f5f"
          },
          "geo": {
           "bgcolor": "white",
           "lakecolor": "white",
           "landcolor": "#E5ECF6",
           "showlakes": true,
           "showland": true,
           "subunitcolor": "white"
          },
          "hoverlabel": {
           "align": "left"
          },
          "hovermode": "closest",
          "mapbox": {
           "style": "light"
          },
          "paper_bgcolor": "white",
          "plot_bgcolor": "#E5ECF6",
          "polar": {
           "angularaxis": {
            "gridcolor": "white",
            "linecolor": "white",
            "ticks": ""
           },
           "bgcolor": "#E5ECF6",
           "radialaxis": {
            "gridcolor": "white",
            "linecolor": "white",
            "ticks": ""
           }
          },
          "scene": {
           "xaxis": {
            "backgroundcolor": "#E5ECF6",
            "gridcolor": "white",
            "gridwidth": 2,
            "linecolor": "white",
            "showbackground": true,
            "ticks": "",
            "zerolinecolor": "white"
           },
           "yaxis": {
            "backgroundcolor": "#E5ECF6",
            "gridcolor": "white",
            "gridwidth": 2,
            "linecolor": "white",
            "showbackground": true,
            "ticks": "",
            "zerolinecolor": "white"
           },
           "zaxis": {
            "backgroundcolor": "#E5ECF6",
            "gridcolor": "white",
            "gridwidth": 2,
            "linecolor": "white",
            "showbackground": true,
            "ticks": "",
            "zerolinecolor": "white"
           }
          },
          "shapedefaults": {
           "line": {
            "color": "#2a3f5f"
           }
          },
          "ternary": {
           "aaxis": {
            "gridcolor": "white",
            "linecolor": "white",
            "ticks": ""
           },
           "baxis": {
            "gridcolor": "white",
            "linecolor": "white",
            "ticks": ""
           },
           "bgcolor": "#E5ECF6",
           "caxis": {
            "gridcolor": "white",
            "linecolor": "white",
            "ticks": ""
           }
          },
          "title": {
           "x": 0.05
          },
          "xaxis": {
           "automargin": true,
           "gridcolor": "white",
           "linecolor": "white",
           "ticks": "",
           "title": {
            "standoff": 15
           },
           "zerolinecolor": "white",
           "zerolinewidth": 2
          },
          "yaxis": {
           "automargin": true,
           "gridcolor": "white",
           "linecolor": "white",
           "ticks": "",
           "title": {
            "standoff": 15
           },
           "zerolinecolor": "white",
           "zerolinewidth": 2
          }
         }
        },
        "xaxis": {
         "anchor": "y",
         "domain": [
          0,
          1
         ],
         "title": {
          "text": "index"
         }
        },
        "yaxis": {
         "anchor": "x",
         "domain": [
          0,
          1
         ],
         "title": {
          "text": "value"
         }
        }
       }
      }
     },
     "metadata": {},
     "output_type": "display_data"
    }
   ],
   "source": [
    "df3=scaler.inverse_transform(df3).tolist()\n",
    "px.line(df3[1800:])"
   ]
  }
 ],
 "metadata": {
  "interpreter": {
   "hash": "a0b743e3f46610aef585505bfb8ed266070dd1178baff540cb1eb86ae22f2f85"
  },
  "kernelspec": {
   "display_name": "Python 3.9.13 64-bit",
   "language": "python",
   "name": "python3"
  },
  "language_info": {
   "codemirror_mode": {
    "name": "ipython",
    "version": 3
   },
   "file_extension": ".py",
   "mimetype": "text/x-python",
   "name": "python",
   "nbconvert_exporter": "python",
   "pygments_lexer": "ipython3",
   "version": "3.9.13"
  },
  "orig_nbformat": 4
 },
 "nbformat": 4,
 "nbformat_minor": 2
}
